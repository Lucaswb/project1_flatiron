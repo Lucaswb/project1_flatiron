{
 "cells": [
  {
   "cell_type": "code",
   "execution_count": 7,
   "metadata": {},
   "outputs": [],
   "source": [
    "from sqlalchemy import create_engine\n",
    "import matplotlib.pyplot as plt\n",
    "import pandas as pd\n",
    "import numpy as np\n",
    "import ipynb.fs.full.project_functions as prf"
   ]
  },
  {
   "cell_type": "code",
   "execution_count": 8,
   "metadata": {},
   "outputs": [],
   "source": [
    "engine = create_engine('postgresql:///opportunity_youth') # since database is owned by me, no other credentials are needed"
   ]
  },
  {
   "cell_type": "markdown",
   "metadata": {},
   "source": [
    "### these are the query strings used to retrive the data from postgres\n",
    "\n",
    "this inlcueds the strings and the items that we queried inorder to retrive the data"
   ]
  },
  {
   "cell_type": "code",
   "execution_count": 9,
   "metadata": {},
   "outputs": [],
   "source": [
    "str_all = \"\"\"\n",
    "SELECT PWGTP, agep, SCHG, SCH, SCHL, ESR\n",
    "FROM pums_2017\n",
    "WHERE (puma BETWEEN '11601' AND '11616')\n",
    "AND (agep BETWEEN 16 AND 24)\n",
    "\"\"\"\n",
    "### this string will search the opportunity_youth data base for all individuals between the ages of 16 and 24"
   ]
  },
  {
   "cell_type": "code",
   "execution_count": 10,
   "metadata": {},
   "outputs": [],
   "source": [
    "str_south = \"\"\"\n",
    "SELECT PWGTP, agep, SCHG, SCH, SCHL, ESR\n",
    "FROM pums_2017\n",
    "WHERE (puma BETWEEN '11610' AND '11615')\n",
    "AND (agep BETWEEN 16 AND 24)\n",
    "\"\"\"\n",
    "### this string will search the opportunity_youth data base for all individuals between the ages of 16 and 24"
   ]
  },
  {
   "cell_type": "code",
   "execution_count": 11,
   "metadata": {},
   "outputs": [],
   "source": [
    "str_yo = \"\"\"\n",
    "SELECT PWGTP, agep, SCHG, SCH, SCHL\n",
    "FROM pums_2017\n",
    "WHERE (puma BETWEEN '11601' AND '11616')\n",
    "AND (agep BETWEEN 16 AND 24)\n",
    "AND (ESR = '3' OR ESR = '6')\n",
    "AND (SCH = '1')\n",
    "\"\"\"\n",
    "### this string will search the opportunity_youth data base for all the youth opportunity in king county"
   ]
  },
  {
   "cell_type": "code",
   "execution_count": 12,
   "metadata": {},
   "outputs": [],
   "source": [
    "str_south_yo = \"\"\"\n",
    "SELECT PWGTP, agep, SCHG, SCH, SCHL\n",
    "FROM pums_2017\n",
    "WHERE (puma BETWEEN '11610' AND '11615')\n",
    "AND (agep BETWEEN 16 AND 24)\n",
    "AND (ESR = '3' OR ESR = '6')\n",
    "AND (SCH = '1')\n",
    "\"\"\""
   ]
  },
  {
   "cell_type": "code",
   "execution_count": 13,
   "metadata": {},
   "outputs": [],
   "source": [
    "str_work_no_dimploma = \"\"\"\n",
    "SELECT PWGTP, agep, SCHG, SCH, SCHL, ESR\n",
    "FROM pums_2017\n",
    "WHERE (puma BETWEEN '11610' AND '11615')\n",
    "AND (agep BETWEEN 16 AND 24)\n",
    "AND (ESR != '3' AND ESR != '6')\n",
    "AND (SCHL <= '15')\n",
    "AND (SCH = '1')\n",
    "\"\"\""
   ]
  },
  {
   "cell_type": "code",
   "execution_count": 14,
   "metadata": {},
   "outputs": [],
   "source": [
    "df_s = pd.read_sql(sql = str_south, con = engine) #data frame for all people between the ages of 16-24 in South King County\n",
    "df_s_yo = pd.read_sql(sql = str_south_yo, con = engine) #data frame for all youth opportunity in south King County\n",
    "df_w_noDiploma = pd.read_sql(sql = str_work_no_dimploma, con = engine) #data frame for all people with no diploma between the ages of 16 and 24 that are working"
   ]
  },
  {
   "cell_type": "markdown",
   "metadata": {},
   "source": [
    "### functions used for project"
   ]
  },
  {
   "cell_type": "code",
   "execution_count": 15,
   "metadata": {},
   "outputs": [],
   "source": [
    "def get_average(data, col_name, age1 = 16, age2 = 24):\n",
    "    try: \n",
    "        filtered_data = data[(data.agep >= age1) & (data.agep <= age2)]\n",
    "        filtered_data['weighted_sum'] = filtered_data[col_name]*filtered_data['pwgtp']\n",
    "        sum_of_weighted_data = filtered_data['weighted_sum'].sum()\n",
    "        sum_of_weights = filtered_data['pwgtp'].sum()\n",
    "        return sum_of_weighted_data/sum_of_weights\n",
    "    except:\n",
    "        print(\"operation could not be completed\")\n"
   ]
  },
  {
   "cell_type": "code",
   "execution_count": 16,
   "metadata": {},
   "outputs": [],
   "source": [
    "def weight_sum(df):\n",
    "    weighted_sum = df['pwgtp'].sum()\n",
    "    return weighted_sum\n",
    "                      "
   ]
  },
  {
   "cell_type": "code",
   "execution_count": 17,
   "metadata": {},
   "outputs": [],
   "source": [
    "def trisect_ages(df):\n",
    "    df_16_18 = df[(df.agep>=16) & (df.agep <= 18)]\n",
    "    value_16_18 = weight_sum(df_16_18)\n",
    "    \n",
    "    df_19_21 = df[(df.agep>=19) & (df.agep <= 21)]\n",
    "    value_19_21 = weight_sum(df_19_21)\n",
    "    \n",
    "    df_22_24 = df[(df.agep>=22) & (df.agep <= 24)]\n",
    "    value_22_24 = weight_sum(df_22_24)\n",
    "    \n",
    "    value_total = weight_sum(df)\n",
    "    \n",
    "    value_array = np.array([value_16_18, value_19_21, value_22_24, value_total])\n",
    "    return value_array"
   ]
  },
  {
   "cell_type": "code",
   "execution_count": 18,
   "metadata": {},
   "outputs": [],
   "source": [
    "def form_2d_array(df_list):\n",
    "    new_list = np.zeros(len(df_list)+1)\n",
    "    df_array = np.array(df_list)\n",
    "    df_table = np.array([trisect_ages(x_df) for x_df in df_array])\n",
    "    \n",
    "    for x in range(len(df_list)+1):\n",
    "        element = df_table[0][x]-(df_table[1][x]+df_table[2][x])\n",
    "        new_list[x] = element\n",
    "    final_table = np.append(df_table, [new_list], axis = 0)\n",
    "    \n",
    "    return final_table\n",
    "    "
   ]
  },
  {
   "cell_type": "code",
   "execution_count": 19,
   "metadata": {},
   "outputs": [],
   "source": [
    "def create_df(array_entry, columns_entry, index_entry):\n",
    "    df = pd.DataFrame(array_entry, columns = columns_entry, index = index_entry)\n",
    "    return df\n",
    "    "
   ]
  },
  {
   "cell_type": "code",
   "execution_count": 20,
   "metadata": {},
   "outputs": [],
   "source": [
    "def add_percentages(df):\n",
    "    for col in df.columns:\n",
    "        if 'total' in col:\n",
    "            df[\"{} percentage\".format(col[:5])] = round(df[col]/df.loc['Total Population', col]*100)\n",
    "    \n",
    "    "
   ]
  },
  {
   "cell_type": "code",
   "execution_count": 21,
   "metadata": {},
   "outputs": [],
   "source": [
    "def get_plot_info(df_new, df_original, row):\n",
    "    labels= ['16-18 percentage', '19-21 percentage', '22-24 percentage', 'total percentage']\n",
    "    x = [] # values of the first bar graph\n",
    "    y = [] # values of the second bar graph\n",
    "    z = np.arange(len(labels)) # label location\n",
    "    width = .35 # width of the bars\n",
    "    for col in df_new.columns:\n",
    "        if ('percentage' in col):\n",
    "            x.append(df_new.loc[row,col])\n",
    "    for col in df_original.columns:\n",
    "        if ('percentage' in col):\n",
    "            y.append(df_original.loc[row,col])\n",
    "    return x, y, z, width\n"
   ]
  },
  {
   "cell_type": "markdown",
   "metadata": {},
   "source": [
    "### This will create an array using the data"
   ]
  },
  {
   "cell_type": "markdown",
   "metadata": {},
   "source": [
    "the first_array function takes in a list of dataframes as an arguement and divides the population up into three rows, the first column are people who are 16-18 in age, the second column represents people who are 19-21, the third column represents people who are 22-24 and the fourth column are the toal number of people. The first row represents the total as well, while the second row represents the people who qualify for opportunity youth, the third row are people who don't have a degree but are working, and the last row are the people who don't qualify for opportunity youth."
   ]
  },
  {
   "cell_type": "code",
   "execution_count": 22,
   "metadata": {},
   "outputs": [
    {
     "data": {
      "text/plain": [
       "array([[30141., 25486., 30256., 85883.],\n",
       "       [ 1815.,  3902.,  4897., 10614.],\n",
       "       [  449.,  1400.,  1631.,  3480.],\n",
       "       [27877., 20184., 23728., 71789.]])"
      ]
     },
     "execution_count": 22,
     "metadata": {},
     "output_type": "execute_result"
    }
   ],
   "source": [
    "first_array = form_2d_array([df_s, df_s_yo, df_w_noDiploma])\n",
    "first_array"
   ]
  },
  {
   "cell_type": "markdown",
   "metadata": {},
   "source": [
    "This will create the column names and the row names that will later be used for creating the data"
   ]
  },
  {
   "cell_type": "code",
   "execution_count": 23,
   "metadata": {},
   "outputs": [],
   "source": [
    "column_names = ['16-18 total', '19-21 total', '22-24 total', '16-24 total']\n",
    "index_names = [\"Total Population\", \"Opportunity Youth\", \"Working no Diploma\", \"Not Opportunity Youth\"]"
   ]
  },
  {
   "cell_type": "markdown",
   "metadata": {},
   "source": [
    "### Creating the Pandas table"
   ]
  },
  {
   "cell_type": "code",
   "execution_count": 24,
   "metadata": {},
   "outputs": [
    {
     "data": {
      "text/html": [
       "<div>\n",
       "<style scoped>\n",
       "    .dataframe tbody tr th:only-of-type {\n",
       "        vertical-align: middle;\n",
       "    }\n",
       "\n",
       "    .dataframe tbody tr th {\n",
       "        vertical-align: top;\n",
       "    }\n",
       "\n",
       "    .dataframe thead th {\n",
       "        text-align: right;\n",
       "    }\n",
       "</style>\n",
       "<table border=\"1\" class=\"dataframe\">\n",
       "  <thead>\n",
       "    <tr style=\"text-align: right;\">\n",
       "      <th></th>\n",
       "      <th>16-18 total</th>\n",
       "      <th>19-21 total</th>\n",
       "      <th>22-24 total</th>\n",
       "      <th>16-24 total</th>\n",
       "    </tr>\n",
       "  </thead>\n",
       "  <tbody>\n",
       "    <tr>\n",
       "      <th>Total Population</th>\n",
       "      <td>30141.0</td>\n",
       "      <td>25486.0</td>\n",
       "      <td>30256.0</td>\n",
       "      <td>85883.0</td>\n",
       "    </tr>\n",
       "    <tr>\n",
       "      <th>Opportunity Youth</th>\n",
       "      <td>1815.0</td>\n",
       "      <td>3902.0</td>\n",
       "      <td>4897.0</td>\n",
       "      <td>10614.0</td>\n",
       "    </tr>\n",
       "    <tr>\n",
       "      <th>Working no Diploma</th>\n",
       "      <td>449.0</td>\n",
       "      <td>1400.0</td>\n",
       "      <td>1631.0</td>\n",
       "      <td>3480.0</td>\n",
       "    </tr>\n",
       "    <tr>\n",
       "      <th>Not Opportunity Youth</th>\n",
       "      <td>27877.0</td>\n",
       "      <td>20184.0</td>\n",
       "      <td>23728.0</td>\n",
       "      <td>71789.0</td>\n",
       "    </tr>\n",
       "  </tbody>\n",
       "</table>\n",
       "</div>"
      ],
      "text/plain": [
       "                       16-18 total  19-21 total  22-24 total  16-24 total\n",
       "Total Population           30141.0      25486.0      30256.0      85883.0\n",
       "Opportunity Youth           1815.0       3902.0       4897.0      10614.0\n",
       "Working no Diploma           449.0       1400.0       1631.0       3480.0\n",
       "Not Opportunity Youth      27877.0      20184.0      23728.0      71789.0"
      ]
     },
     "execution_count": 24,
     "metadata": {},
     "output_type": "execute_result"
    }
   ],
   "source": [
    "df_first_table = pd.DataFrame(first_array, columns = ['16-18 total', '19-21 total', '22-24 total', '16-24 total'], index = [\"Total Population\", \"Opportunity Youth\", \"Working no Diploma\", \"Not Opportunity Youth\"])\n",
    "df_first_table"
   ]
  },
  {
   "cell_type": "markdown",
   "metadata": {},
   "source": [
    "### Cleaning Data\n",
    "\n",
    "though the data doesn't need much cleaning, to get the look of the original table, several new columns were required to represent the percentages of each group"
   ]
  },
  {
   "cell_type": "code",
   "execution_count": 25,
   "metadata": {},
   "outputs": [],
   "source": [
    "reorganized_list = ['16-18 percentage','16-18 total', '19-21 percentage', '19-21 total', '22-24 percentage', '22-24 total', '16-24 percentage', '16-24 total', ]"
   ]
  },
  {
   "cell_type": "code",
   "execution_count": 26,
   "metadata": {},
   "outputs": [
    {
     "data": {
      "text/html": [
       "<div>\n",
       "<style scoped>\n",
       "    .dataframe tbody tr th:only-of-type {\n",
       "        vertical-align: middle;\n",
       "    }\n",
       "\n",
       "    .dataframe tbody tr th {\n",
       "        vertical-align: top;\n",
       "    }\n",
       "\n",
       "    .dataframe thead th {\n",
       "        text-align: right;\n",
       "    }\n",
       "</style>\n",
       "<table border=\"1\" class=\"dataframe\">\n",
       "  <thead>\n",
       "    <tr style=\"text-align: right;\">\n",
       "      <th></th>\n",
       "      <th>16-18 percentage</th>\n",
       "      <th>16-18 total</th>\n",
       "      <th>19-21 percentage</th>\n",
       "      <th>19-21 total</th>\n",
       "      <th>22-24 percentage</th>\n",
       "      <th>22-24 total</th>\n",
       "      <th>16-24 percentage</th>\n",
       "      <th>16-24 total</th>\n",
       "    </tr>\n",
       "  </thead>\n",
       "  <tbody>\n",
       "    <tr>\n",
       "      <th>Total Population</th>\n",
       "      <td>NaN</td>\n",
       "      <td>30141.0</td>\n",
       "      <td>NaN</td>\n",
       "      <td>25486.0</td>\n",
       "      <td>NaN</td>\n",
       "      <td>30256.0</td>\n",
       "      <td>NaN</td>\n",
       "      <td>85883.0</td>\n",
       "    </tr>\n",
       "    <tr>\n",
       "      <th>Opportunity Youth</th>\n",
       "      <td>NaN</td>\n",
       "      <td>1815.0</td>\n",
       "      <td>NaN</td>\n",
       "      <td>3902.0</td>\n",
       "      <td>NaN</td>\n",
       "      <td>4897.0</td>\n",
       "      <td>NaN</td>\n",
       "      <td>10614.0</td>\n",
       "    </tr>\n",
       "    <tr>\n",
       "      <th>Working no Diploma</th>\n",
       "      <td>NaN</td>\n",
       "      <td>449.0</td>\n",
       "      <td>NaN</td>\n",
       "      <td>1400.0</td>\n",
       "      <td>NaN</td>\n",
       "      <td>1631.0</td>\n",
       "      <td>NaN</td>\n",
       "      <td>3480.0</td>\n",
       "    </tr>\n",
       "    <tr>\n",
       "      <th>Not Opportunity Youth</th>\n",
       "      <td>NaN</td>\n",
       "      <td>27877.0</td>\n",
       "      <td>NaN</td>\n",
       "      <td>20184.0</td>\n",
       "      <td>NaN</td>\n",
       "      <td>23728.0</td>\n",
       "      <td>NaN</td>\n",
       "      <td>71789.0</td>\n",
       "    </tr>\n",
       "  </tbody>\n",
       "</table>\n",
       "</div>"
      ],
      "text/plain": [
       "                       16-18 percentage  16-18 total  19-21 percentage  \\\n",
       "Total Population                    NaN      30141.0               NaN   \n",
       "Opportunity Youth                   NaN       1815.0               NaN   \n",
       "Working no Diploma                  NaN        449.0               NaN   \n",
       "Not Opportunity Youth               NaN      27877.0               NaN   \n",
       "\n",
       "                       19-21 total  22-24 percentage  22-24 total  \\\n",
       "Total Population           25486.0               NaN      30256.0   \n",
       "Opportunity Youth           3902.0               NaN       4897.0   \n",
       "Working no Diploma          1400.0               NaN       1631.0   \n",
       "Not Opportunity Youth      20184.0               NaN      23728.0   \n",
       "\n",
       "                       16-24 percentage  16-24 total  \n",
       "Total Population                    NaN      85883.0  \n",
       "Opportunity Youth                   NaN      10614.0  \n",
       "Working no Diploma                  NaN       3480.0  \n",
       "Not Opportunity Youth               NaN      71789.0  "
      ]
     },
     "execution_count": 26,
     "metadata": {},
     "output_type": "execute_result"
    }
   ],
   "source": [
    "df_first_table = df_first_table.reindex(columns = reorganized_list)\n",
    "df_first_table\n"
   ]
  },
  {
   "cell_type": "code",
   "execution_count": 27,
   "metadata": {},
   "outputs": [],
   "source": [
    "add_percentages(df_first_table)\n"
   ]
  },
  {
   "cell_type": "code",
   "execution_count": 28,
   "metadata": {},
   "outputs": [
    {
     "data": {
      "text/html": [
       "<div>\n",
       "<style scoped>\n",
       "    .dataframe tbody tr th:only-of-type {\n",
       "        vertical-align: middle;\n",
       "    }\n",
       "\n",
       "    .dataframe tbody tr th {\n",
       "        vertical-align: top;\n",
       "    }\n",
       "\n",
       "    .dataframe thead th {\n",
       "        text-align: right;\n",
       "    }\n",
       "</style>\n",
       "<table border=\"1\" class=\"dataframe\">\n",
       "  <thead>\n",
       "    <tr style=\"text-align: right;\">\n",
       "      <th></th>\n",
       "      <th>16-18 percentage</th>\n",
       "      <th>16-18 total</th>\n",
       "      <th>19-21 percentage</th>\n",
       "      <th>19-21 total</th>\n",
       "      <th>22-24 percentage</th>\n",
       "      <th>22-24 total</th>\n",
       "      <th>16-24 percentage</th>\n",
       "      <th>16-24 total</th>\n",
       "    </tr>\n",
       "  </thead>\n",
       "  <tbody>\n",
       "    <tr>\n",
       "      <th>Total Population</th>\n",
       "      <td>100.0</td>\n",
       "      <td>30141.0</td>\n",
       "      <td>100.0</td>\n",
       "      <td>25486.0</td>\n",
       "      <td>100.0</td>\n",
       "      <td>30256.0</td>\n",
       "      <td>100.0</td>\n",
       "      <td>85883.0</td>\n",
       "    </tr>\n",
       "    <tr>\n",
       "      <th>Opportunity Youth</th>\n",
       "      <td>6.0</td>\n",
       "      <td>1815.0</td>\n",
       "      <td>15.0</td>\n",
       "      <td>3902.0</td>\n",
       "      <td>16.0</td>\n",
       "      <td>4897.0</td>\n",
       "      <td>12.0</td>\n",
       "      <td>10614.0</td>\n",
       "    </tr>\n",
       "    <tr>\n",
       "      <th>Working no Diploma</th>\n",
       "      <td>1.0</td>\n",
       "      <td>449.0</td>\n",
       "      <td>5.0</td>\n",
       "      <td>1400.0</td>\n",
       "      <td>5.0</td>\n",
       "      <td>1631.0</td>\n",
       "      <td>4.0</td>\n",
       "      <td>3480.0</td>\n",
       "    </tr>\n",
       "    <tr>\n",
       "      <th>Not Opportunity Youth</th>\n",
       "      <td>92.0</td>\n",
       "      <td>27877.0</td>\n",
       "      <td>79.0</td>\n",
       "      <td>20184.0</td>\n",
       "      <td>78.0</td>\n",
       "      <td>23728.0</td>\n",
       "      <td>84.0</td>\n",
       "      <td>71789.0</td>\n",
       "    </tr>\n",
       "  </tbody>\n",
       "</table>\n",
       "</div>"
      ],
      "text/plain": [
       "                       16-18 percentage  16-18 total  19-21 percentage  \\\n",
       "Total Population                  100.0      30141.0             100.0   \n",
       "Opportunity Youth                   6.0       1815.0              15.0   \n",
       "Working no Diploma                  1.0        449.0               5.0   \n",
       "Not Opportunity Youth              92.0      27877.0              79.0   \n",
       "\n",
       "                       19-21 total  22-24 percentage  22-24 total  \\\n",
       "Total Population           25486.0             100.0      30256.0   \n",
       "Opportunity Youth           3902.0              16.0       4897.0   \n",
       "Working no Diploma          1400.0               5.0       1631.0   \n",
       "Not Opportunity Youth      20184.0              78.0      23728.0   \n",
       "\n",
       "                       16-24 percentage  16-24 total  \n",
       "Total Population                  100.0      85883.0  \n",
       "Opportunity Youth                  12.0      10614.0  \n",
       "Working no Diploma                  4.0       3480.0  \n",
       "Not Opportunity Youth              84.0      71789.0  "
      ]
     },
     "execution_count": 28,
     "metadata": {},
     "output_type": "execute_result"
    }
   ],
   "source": [
    "df_first_table"
   ]
  },
  {
   "cell_type": "markdown",
   "metadata": {},
   "source": [
    "## creating original table from 2016"
   ]
  },
  {
   "cell_type": "code",
   "execution_count": 29,
   "metadata": {},
   "outputs": [
    {
     "data": {
      "text/plain": [
       "array([[ 50053,  41651,  48031, 139735],\n",
       "       [  2805,   7284,   8728,  18817],\n",
       "       [   587,   2049,   2877,   5513],\n",
       "       [ 46661,  32318,  36436, 115405]])"
      ]
     },
     "execution_count": 29,
     "metadata": {},
     "output_type": "execute_result"
    }
   ],
   "source": [
    "original_df = np.array([[50053,41651,48031,139735],[2805,7284,8728,18817],[587,2049,2877,5513],[46661,32318,36436,115405]])\n",
    "original_df"
   ]
  },
  {
   "cell_type": "code",
   "execution_count": 30,
   "metadata": {},
   "outputs": [],
   "source": [
    "original_df = create_df(original_df, column_names, index_names)"
   ]
  },
  {
   "cell_type": "code",
   "execution_count": 31,
   "metadata": {},
   "outputs": [
    {
     "data": {
      "text/html": [
       "<div>\n",
       "<style scoped>\n",
       "    .dataframe tbody tr th:only-of-type {\n",
       "        vertical-align: middle;\n",
       "    }\n",
       "\n",
       "    .dataframe tbody tr th {\n",
       "        vertical-align: top;\n",
       "    }\n",
       "\n",
       "    .dataframe thead th {\n",
       "        text-align: right;\n",
       "    }\n",
       "</style>\n",
       "<table border=\"1\" class=\"dataframe\">\n",
       "  <thead>\n",
       "    <tr style=\"text-align: right;\">\n",
       "      <th></th>\n",
       "      <th>16-18 percentage</th>\n",
       "      <th>16-18 total</th>\n",
       "      <th>19-21 percentage</th>\n",
       "      <th>19-21 total</th>\n",
       "      <th>22-24 percentage</th>\n",
       "      <th>22-24 total</th>\n",
       "      <th>16-24 percentage</th>\n",
       "      <th>16-24 total</th>\n",
       "    </tr>\n",
       "  </thead>\n",
       "  <tbody>\n",
       "    <tr>\n",
       "      <th>Total Population</th>\n",
       "      <td>NaN</td>\n",
       "      <td>50053</td>\n",
       "      <td>NaN</td>\n",
       "      <td>41651</td>\n",
       "      <td>NaN</td>\n",
       "      <td>48031</td>\n",
       "      <td>NaN</td>\n",
       "      <td>139735</td>\n",
       "    </tr>\n",
       "    <tr>\n",
       "      <th>Opportunity Youth</th>\n",
       "      <td>NaN</td>\n",
       "      <td>2805</td>\n",
       "      <td>NaN</td>\n",
       "      <td>7284</td>\n",
       "      <td>NaN</td>\n",
       "      <td>8728</td>\n",
       "      <td>NaN</td>\n",
       "      <td>18817</td>\n",
       "    </tr>\n",
       "    <tr>\n",
       "      <th>Working no Diploma</th>\n",
       "      <td>NaN</td>\n",
       "      <td>587</td>\n",
       "      <td>NaN</td>\n",
       "      <td>2049</td>\n",
       "      <td>NaN</td>\n",
       "      <td>2877</td>\n",
       "      <td>NaN</td>\n",
       "      <td>5513</td>\n",
       "    </tr>\n",
       "    <tr>\n",
       "      <th>Not Opportunity Youth</th>\n",
       "      <td>NaN</td>\n",
       "      <td>46661</td>\n",
       "      <td>NaN</td>\n",
       "      <td>32318</td>\n",
       "      <td>NaN</td>\n",
       "      <td>36436</td>\n",
       "      <td>NaN</td>\n",
       "      <td>115405</td>\n",
       "    </tr>\n",
       "  </tbody>\n",
       "</table>\n",
       "</div>"
      ],
      "text/plain": [
       "                       16-18 percentage  16-18 total  19-21 percentage  \\\n",
       "Total Population                    NaN        50053               NaN   \n",
       "Opportunity Youth                   NaN         2805               NaN   \n",
       "Working no Diploma                  NaN          587               NaN   \n",
       "Not Opportunity Youth               NaN        46661               NaN   \n",
       "\n",
       "                       19-21 total  22-24 percentage  22-24 total  \\\n",
       "Total Population             41651               NaN        48031   \n",
       "Opportunity Youth             7284               NaN         8728   \n",
       "Working no Diploma            2049               NaN         2877   \n",
       "Not Opportunity Youth        32318               NaN        36436   \n",
       "\n",
       "                       16-24 percentage  16-24 total  \n",
       "Total Population                    NaN       139735  \n",
       "Opportunity Youth                   NaN        18817  \n",
       "Working no Diploma                  NaN         5513  \n",
       "Not Opportunity Youth               NaN       115405  "
      ]
     },
     "execution_count": 31,
     "metadata": {},
     "output_type": "execute_result"
    }
   ],
   "source": [
    "original_df = original_df.reindex(columns = reorganized_list)\n",
    "original_df"
   ]
  },
  {
   "cell_type": "code",
   "execution_count": 32,
   "metadata": {},
   "outputs": [],
   "source": [
    "add_percentages(original_df)"
   ]
  },
  {
   "cell_type": "code",
   "execution_count": 33,
   "metadata": {},
   "outputs": [
    {
     "data": {
      "text/html": [
       "<div>\n",
       "<style scoped>\n",
       "    .dataframe tbody tr th:only-of-type {\n",
       "        vertical-align: middle;\n",
       "    }\n",
       "\n",
       "    .dataframe tbody tr th {\n",
       "        vertical-align: top;\n",
       "    }\n",
       "\n",
       "    .dataframe thead th {\n",
       "        text-align: right;\n",
       "    }\n",
       "</style>\n",
       "<table border=\"1\" class=\"dataframe\">\n",
       "  <thead>\n",
       "    <tr style=\"text-align: right;\">\n",
       "      <th></th>\n",
       "      <th>16-18 percentage</th>\n",
       "      <th>16-18 total</th>\n",
       "      <th>19-21 percentage</th>\n",
       "      <th>19-21 total</th>\n",
       "      <th>22-24 percentage</th>\n",
       "      <th>22-24 total</th>\n",
       "      <th>16-24 percentage</th>\n",
       "      <th>16-24 total</th>\n",
       "    </tr>\n",
       "  </thead>\n",
       "  <tbody>\n",
       "    <tr>\n",
       "      <th>Total Population</th>\n",
       "      <td>100.0</td>\n",
       "      <td>50053</td>\n",
       "      <td>100.0</td>\n",
       "      <td>41651</td>\n",
       "      <td>100.0</td>\n",
       "      <td>48031</td>\n",
       "      <td>100.0</td>\n",
       "      <td>139735</td>\n",
       "    </tr>\n",
       "    <tr>\n",
       "      <th>Opportunity Youth</th>\n",
       "      <td>6.0</td>\n",
       "      <td>2805</td>\n",
       "      <td>17.0</td>\n",
       "      <td>7284</td>\n",
       "      <td>18.0</td>\n",
       "      <td>8728</td>\n",
       "      <td>13.0</td>\n",
       "      <td>18817</td>\n",
       "    </tr>\n",
       "    <tr>\n",
       "      <th>Working no Diploma</th>\n",
       "      <td>1.0</td>\n",
       "      <td>587</td>\n",
       "      <td>5.0</td>\n",
       "      <td>2049</td>\n",
       "      <td>6.0</td>\n",
       "      <td>2877</td>\n",
       "      <td>4.0</td>\n",
       "      <td>5513</td>\n",
       "    </tr>\n",
       "    <tr>\n",
       "      <th>Not Opportunity Youth</th>\n",
       "      <td>93.0</td>\n",
       "      <td>46661</td>\n",
       "      <td>78.0</td>\n",
       "      <td>32318</td>\n",
       "      <td>76.0</td>\n",
       "      <td>36436</td>\n",
       "      <td>83.0</td>\n",
       "      <td>115405</td>\n",
       "    </tr>\n",
       "  </tbody>\n",
       "</table>\n",
       "</div>"
      ],
      "text/plain": [
       "                       16-18 percentage  16-18 total  19-21 percentage  \\\n",
       "Total Population                  100.0        50053             100.0   \n",
       "Opportunity Youth                   6.0         2805              17.0   \n",
       "Working no Diploma                  1.0          587               5.0   \n",
       "Not Opportunity Youth              93.0        46661              78.0   \n",
       "\n",
       "                       19-21 total  22-24 percentage  22-24 total  \\\n",
       "Total Population             41651             100.0        48031   \n",
       "Opportunity Youth             7284              18.0         8728   \n",
       "Working no Diploma            2049               6.0         2877   \n",
       "Not Opportunity Youth        32318              76.0        36436   \n",
       "\n",
       "                       16-24 percentage  16-24 total  \n",
       "Total Population                  100.0       139735  \n",
       "Opportunity Youth                  13.0        18817  \n",
       "Working no Diploma                  4.0         5513  \n",
       "Not Opportunity Youth              83.0       115405  "
      ]
     },
     "execution_count": 33,
     "metadata": {},
     "output_type": "execute_result"
    }
   ],
   "source": [
    "original_df"
   ]
  },
  {
   "cell_type": "code",
   "execution_count": 34,
   "metadata": {},
   "outputs": [
    {
     "data": {
      "text/html": [
       "<div>\n",
       "<style scoped>\n",
       "    .dataframe tbody tr th:only-of-type {\n",
       "        vertical-align: middle;\n",
       "    }\n",
       "\n",
       "    .dataframe tbody tr th {\n",
       "        vertical-align: top;\n",
       "    }\n",
       "\n",
       "    .dataframe thead th {\n",
       "        text-align: right;\n",
       "    }\n",
       "</style>\n",
       "<table border=\"1\" class=\"dataframe\">\n",
       "  <thead>\n",
       "    <tr style=\"text-align: right;\">\n",
       "      <th></th>\n",
       "      <th>16-18 percentage</th>\n",
       "      <th>16-18 total</th>\n",
       "      <th>19-21 percentage</th>\n",
       "      <th>19-21 total</th>\n",
       "      <th>22-24 percentage</th>\n",
       "      <th>22-24 total</th>\n",
       "      <th>16-24 percentage</th>\n",
       "      <th>16-24 total</th>\n",
       "    </tr>\n",
       "  </thead>\n",
       "  <tbody>\n",
       "    <tr>\n",
       "      <th>Total Population</th>\n",
       "      <td>100.0</td>\n",
       "      <td>30141.0</td>\n",
       "      <td>100.0</td>\n",
       "      <td>25486.0</td>\n",
       "      <td>100.0</td>\n",
       "      <td>30256.0</td>\n",
       "      <td>100.0</td>\n",
       "      <td>85883.0</td>\n",
       "    </tr>\n",
       "    <tr>\n",
       "      <th>Opportunity Youth</th>\n",
       "      <td>6.0</td>\n",
       "      <td>1815.0</td>\n",
       "      <td>15.0</td>\n",
       "      <td>3902.0</td>\n",
       "      <td>16.0</td>\n",
       "      <td>4897.0</td>\n",
       "      <td>12.0</td>\n",
       "      <td>10614.0</td>\n",
       "    </tr>\n",
       "    <tr>\n",
       "      <th>Working no Diploma</th>\n",
       "      <td>1.0</td>\n",
       "      <td>449.0</td>\n",
       "      <td>5.0</td>\n",
       "      <td>1400.0</td>\n",
       "      <td>5.0</td>\n",
       "      <td>1631.0</td>\n",
       "      <td>4.0</td>\n",
       "      <td>3480.0</td>\n",
       "    </tr>\n",
       "    <tr>\n",
       "      <th>Not Opportunity Youth</th>\n",
       "      <td>92.0</td>\n",
       "      <td>27877.0</td>\n",
       "      <td>79.0</td>\n",
       "      <td>20184.0</td>\n",
       "      <td>78.0</td>\n",
       "      <td>23728.0</td>\n",
       "      <td>84.0</td>\n",
       "      <td>71789.0</td>\n",
       "    </tr>\n",
       "  </tbody>\n",
       "</table>\n",
       "</div>"
      ],
      "text/plain": [
       "                       16-18 percentage  16-18 total  19-21 percentage  \\\n",
       "Total Population                  100.0      30141.0             100.0   \n",
       "Opportunity Youth                   6.0       1815.0              15.0   \n",
       "Working no Diploma                  1.0        449.0               5.0   \n",
       "Not Opportunity Youth              92.0      27877.0              79.0   \n",
       "\n",
       "                       19-21 total  22-24 percentage  22-24 total  \\\n",
       "Total Population           25486.0             100.0      30256.0   \n",
       "Opportunity Youth           3902.0              16.0       4897.0   \n",
       "Working no Diploma          1400.0               5.0       1631.0   \n",
       "Not Opportunity Youth      20184.0              78.0      23728.0   \n",
       "\n",
       "                       16-24 percentage  16-24 total  \n",
       "Total Population                  100.0      85883.0  \n",
       "Opportunity Youth                  12.0      10614.0  \n",
       "Working no Diploma                  4.0       3480.0  \n",
       "Not Opportunity Youth              84.0      71789.0  "
      ]
     },
     "execution_count": 34,
     "metadata": {},
     "output_type": "execute_result"
    }
   ],
   "source": [
    "df_first_table"
   ]
  },
  {
   "cell_type": "code",
   "execution_count": 35,
   "metadata": {},
   "outputs": [],
   "source": [
    "original_df.to_excel('data/processed/original_data.xlsx')"
   ]
  },
  {
   "cell_type": "code",
   "execution_count": 36,
   "metadata": {},
   "outputs": [],
   "source": [
    "df_first_table.to_excel('data/processed/new_data.xlsx')"
   ]
  },
  {
   "cell_type": "code",
   "execution_count": 37,
   "metadata": {},
   "outputs": [
    {
     "data": {
      "text/html": [
       "<div>\n",
       "<style scoped>\n",
       "    .dataframe tbody tr th:only-of-type {\n",
       "        vertical-align: middle;\n",
       "    }\n",
       "\n",
       "    .dataframe tbody tr th {\n",
       "        vertical-align: top;\n",
       "    }\n",
       "\n",
       "    .dataframe thead th {\n",
       "        text-align: right;\n",
       "    }\n",
       "</style>\n",
       "<table border=\"1\" class=\"dataframe\">\n",
       "  <thead>\n",
       "    <tr style=\"text-align: right;\">\n",
       "      <th></th>\n",
       "      <th>16-18 percentage</th>\n",
       "      <th>16-18 total</th>\n",
       "      <th>19-21 percentage</th>\n",
       "      <th>19-21 total</th>\n",
       "      <th>22-24 percentage</th>\n",
       "      <th>22-24 total</th>\n",
       "      <th>16-24 percentage</th>\n",
       "      <th>16-24 total</th>\n",
       "    </tr>\n",
       "  </thead>\n",
       "  <tbody>\n",
       "    <tr>\n",
       "      <th>Total Population</th>\n",
       "      <td>0.0</td>\n",
       "      <td>-19912.0</td>\n",
       "      <td>0.0</td>\n",
       "      <td>-16165.0</td>\n",
       "      <td>0.0</td>\n",
       "      <td>-17775.0</td>\n",
       "      <td>0.0</td>\n",
       "      <td>-53852.0</td>\n",
       "    </tr>\n",
       "    <tr>\n",
       "      <th>Opportunity Youth</th>\n",
       "      <td>0.0</td>\n",
       "      <td>-990.0</td>\n",
       "      <td>-2.0</td>\n",
       "      <td>-3382.0</td>\n",
       "      <td>-2.0</td>\n",
       "      <td>-3831.0</td>\n",
       "      <td>-1.0</td>\n",
       "      <td>-8203.0</td>\n",
       "    </tr>\n",
       "    <tr>\n",
       "      <th>Working no Diploma</th>\n",
       "      <td>0.0</td>\n",
       "      <td>-138.0</td>\n",
       "      <td>0.0</td>\n",
       "      <td>-649.0</td>\n",
       "      <td>-1.0</td>\n",
       "      <td>-1246.0</td>\n",
       "      <td>0.0</td>\n",
       "      <td>-2033.0</td>\n",
       "    </tr>\n",
       "    <tr>\n",
       "      <th>Not Opportunity Youth</th>\n",
       "      <td>-1.0</td>\n",
       "      <td>-18784.0</td>\n",
       "      <td>1.0</td>\n",
       "      <td>-12134.0</td>\n",
       "      <td>2.0</td>\n",
       "      <td>-12708.0</td>\n",
       "      <td>1.0</td>\n",
       "      <td>-43616.0</td>\n",
       "    </tr>\n",
       "  </tbody>\n",
       "</table>\n",
       "</div>"
      ],
      "text/plain": [
       "                       16-18 percentage  16-18 total  19-21 percentage  \\\n",
       "Total Population                    0.0     -19912.0               0.0   \n",
       "Opportunity Youth                   0.0       -990.0              -2.0   \n",
       "Working no Diploma                  0.0       -138.0               0.0   \n",
       "Not Opportunity Youth              -1.0     -18784.0               1.0   \n",
       "\n",
       "                       19-21 total  22-24 percentage  22-24 total  \\\n",
       "Total Population          -16165.0               0.0     -17775.0   \n",
       "Opportunity Youth          -3382.0              -2.0      -3831.0   \n",
       "Working no Diploma          -649.0              -1.0      -1246.0   \n",
       "Not Opportunity Youth     -12134.0               2.0     -12708.0   \n",
       "\n",
       "                       16-24 percentage  16-24 total  \n",
       "Total Population                    0.0     -53852.0  \n",
       "Opportunity Youth                  -1.0      -8203.0  \n",
       "Working no Diploma                  0.0      -2033.0  \n",
       "Not Opportunity Youth               1.0     -43616.0  "
      ]
     },
     "execution_count": 37,
     "metadata": {},
     "output_type": "execute_result"
    }
   ],
   "source": [
    "df_delta = df_first_table.subtract(original_df, fill_value = 0)\n",
    "df_delta"
   ]
  },
  {
   "cell_type": "code",
   "execution_count": 38,
   "metadata": {},
   "outputs": [
    {
     "data": {
      "text/html": [
       "<div>\n",
       "<style scoped>\n",
       "    .dataframe tbody tr th:only-of-type {\n",
       "        vertical-align: middle;\n",
       "    }\n",
       "\n",
       "    .dataframe tbody tr th {\n",
       "        vertical-align: top;\n",
       "    }\n",
       "\n",
       "    .dataframe thead th {\n",
       "        text-align: right;\n",
       "    }\n",
       "</style>\n",
       "<table border=\"1\" class=\"dataframe\">\n",
       "  <thead>\n",
       "    <tr style=\"text-align: right;\">\n",
       "      <th></th>\n",
       "      <th>16-18 percentage</th>\n",
       "      <th>19-21 percentage</th>\n",
       "      <th>22-24 percentage</th>\n",
       "      <th>16-24 percentage</th>\n",
       "    </tr>\n",
       "  </thead>\n",
       "  <tbody>\n",
       "    <tr>\n",
       "      <th>Total Population</th>\n",
       "      <td>0.0</td>\n",
       "      <td>0.0</td>\n",
       "      <td>0.0</td>\n",
       "      <td>0.0</td>\n",
       "    </tr>\n",
       "    <tr>\n",
       "      <th>Opportunity Youth</th>\n",
       "      <td>0.0</td>\n",
       "      <td>-2.0</td>\n",
       "      <td>-2.0</td>\n",
       "      <td>-1.0</td>\n",
       "    </tr>\n",
       "    <tr>\n",
       "      <th>Working no Diploma</th>\n",
       "      <td>0.0</td>\n",
       "      <td>0.0</td>\n",
       "      <td>-1.0</td>\n",
       "      <td>0.0</td>\n",
       "    </tr>\n",
       "    <tr>\n",
       "      <th>Not Opportunity Youth</th>\n",
       "      <td>-1.0</td>\n",
       "      <td>1.0</td>\n",
       "      <td>2.0</td>\n",
       "      <td>1.0</td>\n",
       "    </tr>\n",
       "  </tbody>\n",
       "</table>\n",
       "</div>"
      ],
      "text/plain": [
       "                       16-18 percentage  19-21 percentage  22-24 percentage  \\\n",
       "Total Population                    0.0               0.0               0.0   \n",
       "Opportunity Youth                   0.0              -2.0              -2.0   \n",
       "Working no Diploma                  0.0               0.0              -1.0   \n",
       "Not Opportunity Youth              -1.0               1.0               2.0   \n",
       "\n",
       "                       16-24 percentage  \n",
       "Total Population                    0.0  \n",
       "Opportunity Youth                  -1.0  \n",
       "Working no Diploma                  0.0  \n",
       "Not Opportunity Youth               1.0  "
      ]
     },
     "execution_count": 38,
     "metadata": {},
     "output_type": "execute_result"
    }
   ],
   "source": [
    "for col in df_delta.columns:\n",
    "    if 'total' in col:\n",
    "        del df_delta[col]\n",
    "df_delta"
   ]
  },
  {
   "cell_type": "markdown",
   "metadata": {},
   "source": [
    "### Plotting Data"
   ]
  },
  {
   "cell_type": "code",
   "execution_count": 39,
   "metadata": {},
   "outputs": [
    {
     "data": {
      "text/plain": [
       "<matplotlib.legend.Legend at 0x10f3f9320>"
      ]
     },
     "execution_count": 39,
     "metadata": {},
     "output_type": "execute_result"
    },
    {
     "data": {
      "image/png": "[encoded data removed]",
      "text/plain": [
       "<Figure size 1008x720 with 4 Axes>"
      ]
     },
     "metadata": {
      "needs_background": "light"
     },
     "output_type": "display_data"
    }
   ],
   "source": [
    "x, y, z, w = get_plot_info(df_first_table, original_df, \"Opportunity Youth\")\n",
    "x1, y1, z1, w1 = get_plot_info(df_first_table, original_df, \"Working no Diploma\")\n",
    "x2, y2, z2, w2 = get_plot_info(df_first_table, original_df, \"Not Opportunity Youth\")\n",
    "x3, y3, z3, w3 = get_plot_info(df_first_table, original_df, \"Total Population\")\n",
    "\n",
    "labels = ['16-18 years', '19-21 years', '22-24 years', 'total years']\n",
    "\n",
    "fig, ax = plt.subplots(2,2, figsize = (14,10))\n",
    "\n",
    "rect1a = ax[0][0].bar(z - w/2, x,  w, label='New Data')\n",
    "rect1b = ax[0][0].bar(z + w/2, y,  w, label='Original Data')\n",
    "\n",
    "rect2a = ax[0][1].bar(z1 - w1/2, x1,  w1, label='New Data')\n",
    "rect2b = ax[0][1].bar(z1 + w1/2, y1,  w1, label='Original Data')\n",
    "\n",
    "rect3a = ax[1][0].bar(z2 - w2/2, x2,  w2, label='New Data')\n",
    "rect3b = ax[1][0].bar(z2 + w2/2, y2,  w2, label='Original Data')\n",
    "\n",
    "rect4a = ax[1][1].bar(z3 - w3/2, x3,  w3, label='New Data')\n",
    "rect4b = ax[1][1].bar(z3 + w3/2, y3,  w3, label='Original Data')\n",
    "\n",
    "\n",
    "# ax.set_ylabel('Scores')\n",
    "ax[0][0].title.set_text('Opportunity Youth')\n",
    "ax[0][1].title.set_text('Working without a Highschool Diploma/GED')\n",
    "ax[1][0].title.set_text('Not opportunity Youth')\n",
    "ax[1][1].title.set_text('Total Population')\n",
    "\n",
    "\n",
    "for x in range(2):\n",
    "    for y in range (2):\n",
    "        ax[x][y].set_xticks(z)\n",
    "        ax[x][y].set_xticklabels(labels)\n",
    "        ax[x][y].set_ylabel('# per 100 people')\n",
    "        \n",
    "# ax[0][0].set_xticks(z)\n",
    "# ax[0][1].set_xticks(z)\n",
    "# ax[1][0].set_xticks(z)\n",
    "# ax[0][0].set_xticklabels(labels)\n",
    "# ax[0][1].set_xticklabels(labels)\n",
    "# ax[1][0].set_xticklabels(labels)\n",
    "\n",
    "ax[0][1].legend(prop= {'size':14})\n"
   ]
  },
  {
   "cell_type": "code",
   "execution_count": null,
   "metadata": {},
   "outputs": [],
   "source": [
    "\n"
   ]
  },
  {
   "cell_type": "code",
   "execution_count": null,
   "metadata": {},
   "outputs": [],
   "source": []
  },
  {
   "cell_type": "markdown",
   "metadata": {},
   "source": [
    "# Garbage work for testing out additional stuff not relevant for table\n"
   ]
  },
  {
   "cell_type": "code",
   "execution_count": 40,
   "metadata": {},
   "outputs": [
    {
     "ename": "NameError",
     "evalue": "name 'df_yo_south' is not defined",
     "output_type": "error",
     "traceback": [
      "\u001b[0;31m---------------------------------------------------------------------------\u001b[0m",
      "\u001b[0;31mNameError\u001b[0m                                 Traceback (most recent call last)",
      "\u001b[0;32m<ipython-input-40-f6936adc4b66>\u001b[0m in \u001b[0;36m<module>\u001b[0;34m\u001b[0m\n\u001b[0;32m----> 1\u001b[0;31m \u001b[0mdf_array\u001b[0m \u001b[0;34m=\u001b[0m \u001b[0mnp\u001b[0m\u001b[0;34m.\u001b[0m\u001b[0marray\u001b[0m\u001b[0;34m(\u001b[0m\u001b[0;34m[\u001b[0m\u001b[0mdf_s\u001b[0m\u001b[0;34m,\u001b[0m \u001b[0mdf_yo_south\u001b[0m\u001b[0;34m,\u001b[0m \u001b[0mdf_w_noDiploma\u001b[0m\u001b[0;34m]\u001b[0m\u001b[0;34m)\u001b[0m\u001b[0;34m\u001b[0m\u001b[0;34m\u001b[0m\u001b[0m\n\u001b[0m\u001b[1;32m      2\u001b[0m \u001b[0mdf_table\u001b[0m \u001b[0;34m=\u001b[0m \u001b[0mnp\u001b[0m\u001b[0;34m.\u001b[0m\u001b[0marray\u001b[0m\u001b[0;34m(\u001b[0m\u001b[0;34m[\u001b[0m\u001b[0mtrisect_ages\u001b[0m\u001b[0;34m(\u001b[0m\u001b[0mdf\u001b[0m\u001b[0;34m)\u001b[0m \u001b[0;32mfor\u001b[0m \u001b[0mdf\u001b[0m \u001b[0;32min\u001b[0m \u001b[0mdf_array\u001b[0m\u001b[0;34m]\u001b[0m\u001b[0;34m)\u001b[0m\u001b[0;34m\u001b[0m\u001b[0;34m\u001b[0m\u001b[0m\n\u001b[1;32m      3\u001b[0m \u001b[0;34m\u001b[0m\u001b[0m\n\u001b[1;32m      4\u001b[0m \u001b[0mprint\u001b[0m\u001b[0;34m(\u001b[0m\u001b[0mdf_table\u001b[0m\u001b[0;34m)\u001b[0m\u001b[0;34m\u001b[0m\u001b[0;34m\u001b[0m\u001b[0m\n\u001b[1;32m      5\u001b[0m \u001b[0;34m\u001b[0m\u001b[0m\n",
      "\u001b[0;31mNameError\u001b[0m: name 'df_yo_south' is not defined"
     ]
    }
   ],
   "source": [
    "df_array = np.array([df_s, df_yo_south, df_w_noDiploma])\n",
    "df_table = np.array([trisect_ages(df) for df in df_array])\n",
    "\n",
    "print(df_table)\n",
    "\n",
    "new_list = np.array([0, 0, 0, 0])\n",
    "for x in range(4):\n",
    "    element = df_table[0][x]-(df_table[1][x]+df_table[2][x])\n",
    "    new_list[x] = element\n",
    "print(new_list)\n",
    "np.append(df_table, [new_list], axis = 0)"
   ]
  },
  {
   "cell_type": "code",
   "execution_count": null,
   "metadata": {},
   "outputs": [],
   "source": []
  },
  {
   "cell_type": "code",
   "execution_count": null,
   "metadata": {},
   "outputs": [],
   "source": [
    "filtered_data = df_all[(df_all.agep >= 16) & (df_all.agep <= 18)]"
   ]
  },
  {
   "cell_type": "code",
   "execution_count": null,
   "metadata": {},
   "outputs": [],
   "source": [
    "filtered_data.head(df_first_table, fill_value )"
   ]
  },
  {
   "cell_type": "code",
   "execution_count": null,
   "metadata": {},
   "outputs": [],
   "source": [
    "filtered_data['weighted_sum'] = filtered_data['agep']*filtered_data['pwgtp']\n",
    "weighted_sum = filtered_data['weighted_sum'].sum()\n",
    "sum_weights = filtered_data['pwgtp'].sum()\n",
    "average_weight = weighted_sum/sum_weights\n",
    "print(average_weight)\n",
    "\n"
   ]
  },
  {
   "cell_type": "code",
   "execution_count": null,
   "metadata": {},
   "outputs": [],
   "source": []
  },
  {
   "cell_type": "code",
   "execution_count": null,
   "metadata": {},
   "outputs": [],
   "source": [
    "df_16_18 = df_all[(df_all['agep']>= 16.0) & (df_all['agep']<= 18.0)]\n",
    "total_number_16_18 = df_16_18['pwgtp'].sum()\n",
    "total_number_16_18"
   ]
  },
  {
   "cell_type": "code",
   "execution_count": null,
   "metadata": {},
   "outputs": [],
   "source": [
    "df_yo= pd.read_sql(sql = search_string_yo, con = engine)"
   ]
  },
  {
   "cell_type": "code",
   "execution_count": null,
   "metadata": {},
   "outputs": [],
   "source": [
    "df_all.head()\n",
    "df_all.shape"
   ]
  },
  {
   "cell_type": "code",
   "execution_count": null,
   "metadata": {},
   "outputs": [],
   "source": []
  }
 ],
 "metadata": {
  "kernelspec": {
   "display_name": "oy-env",
   "language": "python",
   "name": "oy-env"
  },
  "language_info": {
   "codemirror_mode": {
    "name": "ipython",
    "version": 3
   },
   "file_extension": ".py",
   "mimetype": "text/x-python",
   "name": "python",
   "nbconvert_exporter": "python",
   "pygments_lexer": "ipython3",
   "version": "3.7.3"
  }
 },
 "nbformat": 4,
 "nbformat_minor": 2
}
