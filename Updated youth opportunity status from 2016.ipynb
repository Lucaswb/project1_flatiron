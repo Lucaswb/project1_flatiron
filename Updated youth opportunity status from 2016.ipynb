{
 "cells": [
  {
   "cell_type": "code",
   "execution_count": 19,
   "metadata": {},
   "outputs": [],
   "source": [
    "from sqlalchemy import create_engine\n",
    "import pandas as pd\n",
    "import numpy as np\n",
    "import ipynb.fs.full.project_functions as prf"
   ]
  },
  {
   "cell_type": "code",
   "execution_count": 2,
   "metadata": {},
   "outputs": [],
   "source": [
    "engine = create_engine('postgresql:///opportunity_youth') # since database is owned by me, no other credentials are needed"
   ]
  },
  {
   "cell_type": "markdown",
   "metadata": {},
   "source": [
    "### these are the query strings used to retrive the data from postgres\n",
    "\n",
    "this inlcueds the strings and the items that we queried inorder to retrive the data"
   ]
  },
  {
   "cell_type": "code",
   "execution_count": 3,
   "metadata": {},
   "outputs": [],
   "source": [
    "str_all = \"\"\"\n",
    "SELECT PWGTP, agep, SCHG, SCH, SCHL, ESR\n",
    "FROM pums_2017\n",
    "WHERE (puma BETWEEN '11601' AND '11616')\n",
    "AND (agep BETWEEN 16 AND 24)\n",
    "\"\"\"\n",
    "### this string will search the opportunity_youth data base for all individuals between the ages of 16 and 24"
   ]
  },
  {
   "cell_type": "code",
   "execution_count": 4,
   "metadata": {},
   "outputs": [],
   "source": [
    "str_south = \"\"\"\n",
    "SELECT PWGTP, agep, SCHG, SCH, SCHL, ESR\n",
    "FROM pums_2017\n",
    "WHERE (puma BETWEEN '11610' AND '11615')\n",
    "AND (agep BETWEEN 16 AND 24)\n",
    "\"\"\"\n",
    "### this string will search the opportunity_youth data base for all individuals between the ages of 16 and 24"
   ]
  },
  {
   "cell_type": "code",
   "execution_count": 5,
   "metadata": {},
   "outputs": [],
   "source": [
    "str_yo = \"\"\"\n",
    "SELECT PWGTP, agep, SCHG, SCH, SCHL\n",
    "FROM pums_2017\n",
    "WHERE (puma BETWEEN '11601' AND '11616')\n",
    "AND (agep BETWEEN 16 AND 24)\n",
    "AND (ESR = '3' OR ESR = '6')\n",
    "AND (SCH = '1')\n",
    "\"\"\"\n",
    "### this string will search the opportunity_youth data base for all the youth opportunity in king county"
   ]
  },
  {
   "cell_type": "code",
   "execution_count": 7,
   "metadata": {},
   "outputs": [],
   "source": [
    "str_south_yo = \"\"\"\n",
    "SELECT PWGTP, agep, SCHG, SCH, SCHL\n",
    "FROM pums_2017\n",
    "WHERE (puma BETWEEN '11610' AND '11615')\n",
    "AND (agep BETWEEN 16 AND 24)\n",
    "AND (ESR = '3' OR ESR = '6')\n",
    "AND (SCH = '1')\n",
    "\"\"\""
   ]
  },
  {
   "cell_type": "code",
   "execution_count": 6,
   "metadata": {},
   "outputs": [],
   "source": [
    "str_work_no_dimploma = \"\"\"\n",
    "SELECT PWGTP, agep, SCHG, SCH, SCHL, ESR\n",
    "FROM pums_2017\n",
    "WHERE (puma BETWEEN '11610' AND '11615')\n",
    "AND (agep BETWEEN 16 AND 24)\n",
    "AND (ESR != '3' AND ESR != '6')\n",
    "AND (SCHL <= '15')\n",
    "\"\"\""
   ]
  },
  {
   "cell_type": "code",
   "execution_count": 8,
   "metadata": {},
   "outputs": [],
   "source": [
    "df_s = pd.read_sql(sql = str_south, con = engine) #data frame for all people between the ages of 16-24 in South King County\n",
    "df_s_yo = pd.read_sql(sql = str_south_yo, con = engine) #data frame for all youth opportunity in south King County\n",
    "df_w_noDiploma = pd.read_sql(sql = str_work_no_dimploma, con = engine) #data frame for all people with no diploma between the ages of 16 and 24 that are working"
   ]
  },
  {
   "cell_type": "markdown",
   "metadata": {},
   "source": [
    "### functions used for project"
   ]
  },
  {
   "cell_type": "code",
   "execution_count": 9,
   "metadata": {},
   "outputs": [],
   "source": [
    "def get_average(data, col_name, age1 = 16, age2 = 24):\n",
    "    try: \n",
    "        filtered_data = data[(data.agep >= age1) & (data.agep <= age2)]\n",
    "        filtered_data['weighted_sum'] = filtered_data[col_name]*filtered_data['pwgtp']\n",
    "        sum_of_weighted_data = filtered_data['weighted_sum'].sum()\n",
    "        sum_of_weights = filtered_data['pwgtp'].sum()\n",
    "        return sum_of_weighted_data/sum_of_weights\n",
    "    except:\n",
    "        print(\"operation could not be completed\")\n"
   ]
  },
  {
   "cell_type": "code",
   "execution_count": 10,
   "metadata": {},
   "outputs": [],
   "source": [
    "def weight_sum(df):\n",
    "    weighted_sum = df['pwgtp'].sum()\n",
    "    return weighted_sum\n",
    "                      "
   ]
  },
  {
   "cell_type": "code",
   "execution_count": 11,
   "metadata": {},
   "outputs": [],
   "source": [
    "def trisect_ages(df):\n",
    "    df_16_18 = df[(df.agep>=16) & (df.agep <= 18)]\n",
    "    value_16_18 = weight_sum(df_16_18)\n",
    "    \n",
    "    df_19_21 = df[(df.agep>=19) & (df.agep <= 21)]\n",
    "    value_19_21 = weight_sum(df_19_21)\n",
    "    \n",
    "    df_22_24 = df[(df.agep>=22) & (df.agep <= 24)]\n",
    "    value_22_24 = weight_sum(df_22_24)\n",
    "    \n",
    "    value_total = weight_sum(df)\n",
    "    \n",
    "    value_array = np.array([value_16_18, value_19_21, value_22_24, value_total])\n",
    "    return value_array"
   ]
  },
  {
   "cell_type": "code",
   "execution_count": 12,
   "metadata": {},
   "outputs": [],
   "source": [
    "def form_2d_array(df_list):\n",
    "    new_list = np.zeros(len(df_list)+1)\n",
    "    df_array = np.array(df_list)\n",
    "    df_table = np.array([trisect_ages(x_df) for x_df in df_array])\n",
    "    \n",
    "    for x in range(len(df_list)+1):\n",
    "        element = df_table[0][x]-(df_table[1][x]+df_table[2][x])\n",
    "        new_list[x] = element\n",
    "    final_table = np.append(df_table, [new_list], axis = 0)\n",
    "    \n",
    "    return final_table\n",
    "    "
   ]
  },
  {
   "cell_type": "code",
   "execution_count": 13,
   "metadata": {},
   "outputs": [],
   "source": [
    "def create_df(array_entry, columns_entry, index_entry):\n",
    "    df = pd.DataFrame(array_entry, columns = columns_entry, index = index_entry)\n",
    "    return df\n",
    "    "
   ]
  },
  {
   "cell_type": "markdown",
   "metadata": {},
   "source": [
    "### This will create an array using the data"
   ]
  },
  {
   "cell_type": "markdown",
   "metadata": {},
   "source": [
    "the first_array function takes in a list of dataframes as an arguement and divides the population up into three rows, the first column are people who are 16-18 in age, the second column represents people who are 19-21, the third column represents people who are 22-24 and the fourth column are the toal number of people. The first row represents the total as well, while the second row represents the people who qualify for opportunity youth, the third row are people who don't have a degree but are working, and the last row are the people who don't qualify for opportunity youth."
   ]
  },
  {
   "cell_type": "code",
   "execution_count": 16,
   "metadata": {},
   "outputs": [
    {
     "data": {
      "text/plain": [
       "array([[30141., 25486., 30256., 85883.],\n",
       "       [ 1815.,  3902.,  4897., 10614.],\n",
       "       [ 4377.,  1630.,  1705.,  7712.],\n",
       "       [23949., 19954., 23654., 67557.]])"
      ]
     },
     "execution_count": 16,
     "metadata": {},
     "output_type": "execute_result"
    }
   ],
   "source": [
    "first_array = form_2d_array([df_s, df_s_yo, df_w_noDiploma])\n",
    "first_array"
   ]
  },
  {
   "cell_type": "markdown",
   "metadata": {},
   "source": [
    "This will create the column names and the row names that will later be used for creating the data"
   ]
  },
  {
   "cell_type": "code",
   "execution_count": 9,
   "metadata": {},
   "outputs": [],
   "source": [
    "column_names = ['16-18 total', '19-21 total', '22-24 total', '16-24 total']\n",
    "index_names = [\"Total Population\", \"Opportunity Youth\", \"Working no Dimploma\", \"Not Opportunity Youth\"]"
   ]
  },
  {
   "cell_type": "markdown",
   "metadata": {},
   "source": [
    "### Creating the Pandas table"
   ]
  },
  {
   "cell_type": "code",
   "execution_count": 256,
   "metadata": {},
   "outputs": [
    {
     "data": {
      "text/html": [
       "<div>\n",
       "<style scoped>\n",
       "    .dataframe tbody tr th:only-of-type {\n",
       "        vertical-align: middle;\n",
       "    }\n",
       "\n",
       "    .dataframe tbody tr th {\n",
       "        vertical-align: top;\n",
       "    }\n",
       "\n",
       "    .dataframe thead th {\n",
       "        text-align: right;\n",
       "    }\n",
       "</style>\n",
       "<table border=\"1\" class=\"dataframe\">\n",
       "  <thead>\n",
       "    <tr style=\"text-align: right;\">\n",
       "      <th></th>\n",
       "      <th>16-18 total</th>\n",
       "      <th>19-21 total</th>\n",
       "      <th>22-24 total</th>\n",
       "      <th>16-24 total</th>\n",
       "    </tr>\n",
       "  </thead>\n",
       "  <tbody>\n",
       "    <tr>\n",
       "      <th>Total Population</th>\n",
       "      <td>30141.0</td>\n",
       "      <td>25486.0</td>\n",
       "      <td>30256.0</td>\n",
       "      <td>85883.0</td>\n",
       "    </tr>\n",
       "    <tr>\n",
       "      <th>Opportunity Youth</th>\n",
       "      <td>1815.0</td>\n",
       "      <td>3902.0</td>\n",
       "      <td>4897.0</td>\n",
       "      <td>10614.0</td>\n",
       "    </tr>\n",
       "    <tr>\n",
       "      <th>Working no Dimploma</th>\n",
       "      <td>4377.0</td>\n",
       "      <td>1630.0</td>\n",
       "      <td>1705.0</td>\n",
       "      <td>7712.0</td>\n",
       "    </tr>\n",
       "    <tr>\n",
       "      <th>Not Opportunity Youth</th>\n",
       "      <td>23949.0</td>\n",
       "      <td>19954.0</td>\n",
       "      <td>23654.0</td>\n",
       "      <td>67557.0</td>\n",
       "    </tr>\n",
       "  </tbody>\n",
       "</table>\n",
       "</div>"
      ],
      "text/plain": [
       "                       16-18 total  19-21 total  22-24 total  16-24 total\n",
       "Total Population           30141.0      25486.0      30256.0      85883.0\n",
       "Opportunity Youth           1815.0       3902.0       4897.0      10614.0\n",
       "Working no Dimploma         4377.0       1630.0       1705.0       7712.0\n",
       "Not Opportunity Youth      23949.0      19954.0      23654.0      67557.0"
      ]
     },
     "execution_count": 256,
     "metadata": {},
     "output_type": "execute_result"
    }
   ],
   "source": [
    "df_first_table = pd.DataFrame(first_array, columns = ['16-18 total', '19-21 total', '22-24 total', '16-24 total'], index = [\"Total Population\", \"Opportunity Youth\", \"Working no Dimploma\", \"Not Opportunity Youth\"])\n",
    "df_first_table"
   ]
  },
  {
   "cell_type": "markdown",
   "metadata": {},
   "source": [
    "### Cleaning Data\n",
    "\n",
    "though the data doesn't need much cleaning, to get the look of the original table, several new columns were required to represent the percentages of each group"
   ]
  },
  {
   "cell_type": "code",
   "execution_count": 267,
   "metadata": {},
   "outputs": [],
   "source": [
    "reorganized_list = ['16-18 percentage','16-18 total', '19-21 percentage', '19-21 total', '22-24 percentage', '22-24 total', '16-24 percentage', '16-24 total', ]"
   ]
  },
  {
   "cell_type": "code",
   "execution_count": 268,
   "metadata": {},
   "outputs": [
    {
     "data": {
      "text/html": [
       "<div>\n",
       "<style scoped>\n",
       "    .dataframe tbody tr th:only-of-type {\n",
       "        vertical-align: middle;\n",
       "    }\n",
       "\n",
       "    .dataframe tbody tr th {\n",
       "        vertical-align: top;\n",
       "    }\n",
       "\n",
       "    .dataframe thead th {\n",
       "        text-align: right;\n",
       "    }\n",
       "</style>\n",
       "<table border=\"1\" class=\"dataframe\">\n",
       "  <thead>\n",
       "    <tr style=\"text-align: right;\">\n",
       "      <th></th>\n",
       "      <th>16-18 percentage</th>\n",
       "      <th>16-18 total</th>\n",
       "      <th>19-21 percentage</th>\n",
       "      <th>19-21 total</th>\n",
       "      <th>22-24 percentage</th>\n",
       "      <th>22-24 total</th>\n",
       "      <th>16-24 percentage</th>\n",
       "      <th>16-24 total</th>\n",
       "    </tr>\n",
       "  </thead>\n",
       "  <tbody>\n",
       "    <tr>\n",
       "      <th>Total Population</th>\n",
       "      <td>100.0</td>\n",
       "      <td>30141.0</td>\n",
       "      <td>100.0</td>\n",
       "      <td>25486.0</td>\n",
       "      <td>100.0</td>\n",
       "      <td>30256.0</td>\n",
       "      <td>100.0</td>\n",
       "      <td>85883.0</td>\n",
       "    </tr>\n",
       "    <tr>\n",
       "      <th>Opportunity Youth</th>\n",
       "      <td>6.0</td>\n",
       "      <td>1815.0</td>\n",
       "      <td>15.0</td>\n",
       "      <td>3902.0</td>\n",
       "      <td>16.0</td>\n",
       "      <td>4897.0</td>\n",
       "      <td>12.0</td>\n",
       "      <td>10614.0</td>\n",
       "    </tr>\n",
       "    <tr>\n",
       "      <th>Working no Dimploma</th>\n",
       "      <td>15.0</td>\n",
       "      <td>4377.0</td>\n",
       "      <td>6.0</td>\n",
       "      <td>1630.0</td>\n",
       "      <td>6.0</td>\n",
       "      <td>1705.0</td>\n",
       "      <td>9.0</td>\n",
       "      <td>7712.0</td>\n",
       "    </tr>\n",
       "    <tr>\n",
       "      <th>Not Opportunity Youth</th>\n",
       "      <td>79.0</td>\n",
       "      <td>23949.0</td>\n",
       "      <td>78.0</td>\n",
       "      <td>19954.0</td>\n",
       "      <td>78.0</td>\n",
       "      <td>23654.0</td>\n",
       "      <td>79.0</td>\n",
       "      <td>67557.0</td>\n",
       "    </tr>\n",
       "  </tbody>\n",
       "</table>\n",
       "</div>"
      ],
      "text/plain": [
       "                       16-18 percentage  16-18 total  19-21 percentage  \\\n",
       "Total Population                  100.0      30141.0             100.0   \n",
       "Opportunity Youth                   6.0       1815.0              15.0   \n",
       "Working no Dimploma                15.0       4377.0               6.0   \n",
       "Not Opportunity Youth              79.0      23949.0              78.0   \n",
       "\n",
       "                       19-21 total  22-24 percentage  22-24 total  \\\n",
       "Total Population           25486.0             100.0      30256.0   \n",
       "Opportunity Youth           3902.0              16.0       4897.0   \n",
       "Working no Dimploma         1630.0               6.0       1705.0   \n",
       "Not Opportunity Youth      19954.0              78.0      23654.0   \n",
       "\n",
       "                       16-24 percentage  16-24 total  \n",
       "Total Population                  100.0      85883.0  \n",
       "Opportunity Youth                  12.0      10614.0  \n",
       "Working no Dimploma                 9.0       7712.0  \n",
       "Not Opportunity Youth              79.0      67557.0  "
      ]
     },
     "execution_count": 268,
     "metadata": {},
     "output_type": "execute_result"
    }
   ],
   "source": [
    "df_first_table = df_first_table.reindex(columns = reorganized_list)\n",
    "df_first_table\n"
   ]
  },
  {
   "cell_type": "markdown",
   "metadata": {},
   "source": [
    "### Garbage work for testing out additional stuff not relevant for table\n"
   ]
  },
  {
   "cell_type": "code",
   "execution_count": 270,
   "metadata": {},
   "outputs": [
    {
     "name": "stdout",
     "output_type": "stream",
     "text": [
      "[[30141. 25486. 30256. 85883.]\n",
      " [ 1815.  3902.  4897. 10614.]\n",
      " [ 4377.  1630.  1705.  7712.]]\n",
      "[23949 19954 23654 67557]\n"
     ]
    },
    {
     "data": {
      "text/plain": [
       "array([[30141., 25486., 30256., 85883.],\n",
       "       [ 1815.,  3902.,  4897., 10614.],\n",
       "       [ 4377.,  1630.,  1705.,  7712.],\n",
       "       [23949., 19954., 23654., 67557.]])"
      ]
     },
     "execution_count": 270,
     "metadata": {},
     "output_type": "execute_result"
    }
   ],
   "source": [
    "df_array = np.array([df_s, df_yo_south, df_w_noDiploma])\n",
    "df_table = np.array([trisect_ages(df) for df in df_array])\n",
    "\n",
    "print(df_table)\n",
    "\n",
    "new_list = np.array([0, 0, 0, 0])\n",
    "for x in range(4):\n",
    "    element = df_table[0][x]-(df_table[1][x]+df_table[2][x])\n",
    "    new_list[x] = element\n",
    "print(new_list)\n",
    "np.append(df_table, [new_list], axis = 0)"
   ]
  },
  {
   "cell_type": "code",
   "execution_count": null,
   "metadata": {},
   "outputs": [],
   "source": []
  },
  {
   "cell_type": "code",
   "execution_count": 44,
   "metadata": {},
   "outputs": [],
   "source": [
    "filtered_data = df_all[(df_all.agep >= 16) & (df_all.agep <= 18)]"
   ]
  },
  {
   "cell_type": "code",
   "execution_count": 45,
   "metadata": {},
   "outputs": [
    {
     "data": {
      "text/html": [
       "<div>\n",
       "<style scoped>\n",
       "    .dataframe tbody tr th:only-of-type {\n",
       "        vertical-align: middle;\n",
       "    }\n",
       "\n",
       "    .dataframe tbody tr th {\n",
       "        vertical-align: top;\n",
       "    }\n",
       "\n",
       "    .dataframe thead th {\n",
       "        text-align: right;\n",
       "    }\n",
       "</style>\n",
       "<table border=\"1\" class=\"dataframe\">\n",
       "  <thead>\n",
       "    <tr style=\"text-align: right;\">\n",
       "      <th></th>\n",
       "      <th>puma</th>\n",
       "      <th>pwgtp</th>\n",
       "      <th>agep</th>\n",
       "      <th>schg</th>\n",
       "      <th>sch</th>\n",
       "      <th>schl</th>\n",
       "      <th>esr</th>\n",
       "    </tr>\n",
       "  </thead>\n",
       "  <tbody>\n",
       "    <tr>\n",
       "      <th>4</th>\n",
       "      <td>11613</td>\n",
       "      <td>15.0</td>\n",
       "      <td>19.0</td>\n",
       "      <td>None</td>\n",
       "      <td>1</td>\n",
       "      <td>13</td>\n",
       "      <td>6</td>\n",
       "    </tr>\n",
       "    <tr>\n",
       "      <th>6</th>\n",
       "      <td>11606</td>\n",
       "      <td>20.0</td>\n",
       "      <td>16.0</td>\n",
       "      <td>12</td>\n",
       "      <td>2</td>\n",
       "      <td>12</td>\n",
       "      <td>6</td>\n",
       "    </tr>\n",
       "    <tr>\n",
       "      <th>7</th>\n",
       "      <td>11606</td>\n",
       "      <td>15.0</td>\n",
       "      <td>19.0</td>\n",
       "      <td>None</td>\n",
       "      <td>1</td>\n",
       "      <td>19</td>\n",
       "      <td>1</td>\n",
       "    </tr>\n",
       "    <tr>\n",
       "      <th>8</th>\n",
       "      <td>11611</td>\n",
       "      <td>28.0</td>\n",
       "      <td>18.0</td>\n",
       "      <td>15</td>\n",
       "      <td>2</td>\n",
       "      <td>19</td>\n",
       "      <td>3</td>\n",
       "    </tr>\n",
       "    <tr>\n",
       "      <th>10</th>\n",
       "      <td>11610</td>\n",
       "      <td>45.0</td>\n",
       "      <td>18.0</td>\n",
       "      <td>14</td>\n",
       "      <td>2</td>\n",
       "      <td>16</td>\n",
       "      <td>1</td>\n",
       "    </tr>\n",
       "  </tbody>\n",
       "</table>\n",
       "</div>"
      ],
      "text/plain": [
       "     puma  pwgtp  agep  schg sch schl esr\n",
       "4   11613   15.0  19.0  None   1   13   6\n",
       "6   11606   20.0  16.0    12   2   12   6\n",
       "7   11606   15.0  19.0  None   1   19   1\n",
       "8   11611   28.0  18.0    15   2   19   3\n",
       "10  11610   45.0  18.0    14   2   16   1"
      ]
     },
     "execution_count": 45,
     "metadata": {},
     "output_type": "execute_result"
    }
   ],
   "source": [
    "filtered_data.head()"
   ]
  },
  {
   "cell_type": "code",
   "execution_count": 51,
   "metadata": {},
   "outputs": [
    {
     "name": "stdout",
     "output_type": "stream",
     "text": [
      "17.472792375335686\n"
     ]
    },
    {
     "name": "stderr",
     "output_type": "stream",
     "text": [
      "/Users/lucasblasdel/opt/anaconda3/envs/oy-env/lib/python3.7/site-packages/ipykernel_launcher.py:1: SettingWithCopyWarning: \n",
      "A value is trying to be set on a copy of a slice from a DataFrame.\n",
      "Try using .loc[row_indexer,col_indexer] = value instead\n",
      "\n",
      "See the caveats in the documentation: http://pandas.pydata.org/pandas-docs/stable/user_guide/indexing.html#returning-a-view-versus-a-copy\n",
      "  \"\"\"Entry point for launching an IPython kernel.\n"
     ]
    }
   ],
   "source": [
    "filtered_data['weighted_sum'] = filtered_data['agep']*filtered_data['pwgtp']\n",
    "weighted_sum = filtered_data['weighted_sum'].sum()\n",
    "sum_weights = filtered_data['pwgtp'].sum()\n",
    "average_weight = weighted_sum/sum_weights\n",
    "print(average_weight)\n",
    "\n"
   ]
  },
  {
   "cell_type": "code",
   "execution_count": null,
   "metadata": {},
   "outputs": [],
   "source": []
  },
  {
   "cell_type": "code",
   "execution_count": 31,
   "metadata": {},
   "outputs": [
    {
     "data": {
      "text/plain": [
       "72945.0"
      ]
     },
     "execution_count": 31,
     "metadata": {},
     "output_type": "execute_result"
    }
   ],
   "source": [
    "df_16_18 = df_all[(df_all['agep']>= 16.0) & (df_all['agep']<= 18.0)]\n",
    "total_number_16_18 = df_16_18['pwgtp'].sum()\n",
    "total_number_16_18"
   ]
  },
  {
   "cell_type": "code",
   "execution_count": 10,
   "metadata": {},
   "outputs": [],
   "source": [
    "df_yo= pd.read_sql(sql = search_string_yo, con = engine)"
   ]
  },
  {
   "cell_type": "code",
   "execution_count": 18,
   "metadata": {},
   "outputs": [
    {
     "data": {
      "text/plain": [
       "(10053, 7)"
      ]
     },
     "execution_count": 18,
     "metadata": {},
     "output_type": "execute_result"
    }
   ],
   "source": [
    "df_all.head()\n",
    "df_all.shape"
   ]
  },
  {
   "cell_type": "code",
   "execution_count": null,
   "metadata": {},
   "outputs": [],
   "source": []
  }
 ],
 "metadata": {
  "kernelspec": {
   "display_name": "oy-env",
   "language": "python",
   "name": "oy-env"
  },
  "language_info": {
   "codemirror_mode": {
    "name": "ipython",
    "version": 3
   },
   "file_extension": ".py",
   "mimetype": "text/x-python",
   "name": "python",
   "nbconvert_exporter": "python",
   "pygments_lexer": "ipython3",
   "version": "3.7.3"
  }
 },
 "nbformat": 4,
 "nbformat_minor": 2
}
