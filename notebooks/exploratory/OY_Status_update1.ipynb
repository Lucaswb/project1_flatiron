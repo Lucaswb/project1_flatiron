{
 "cells": [
  {
   "cell_type": "code",
   "execution_count": 1,
   "metadata": {},
   "outputs": [],
   "source": [
    "import pandas as pd\n",
    "from sqlalchemy import create_engine"
   ]
  },
  {
   "cell_type": "code",
   "execution_count": 2,
   "metadata": {},
   "outputs": [],
   "source": [
    "engine = create_engine(\"postgresql:///opportunity_youth\")"
   ]
  },
  {
   "cell_type": "code",
   "execution_count": 3,
   "metadata": {},
   "outputs": [],
   "source": [
    " df_oy = pd.read_sql(sql=\"SELECT * FROM table_final_query_0\", con=engine)"
   ]
  },
  {
   "cell_type": "code",
   "execution_count": 8,
   "metadata": {},
   "outputs": [
    {
     "data": {
      "text/html": [
       "<div>\n",
       "<style scoped>\n",
       "    .dataframe tbody tr th:only-of-type {\n",
       "        vertical-align: middle;\n",
       "    }\n",
       "\n",
       "    .dataframe tbody tr th {\n",
       "        vertical-align: top;\n",
       "    }\n",
       "\n",
       "    .dataframe thead th {\n",
       "        text-align: right;\n",
       "    }\n",
       "</style>\n",
       "<table border=\"1\" class=\"dataframe\">\n",
       "  <thead>\n",
       "    <tr style=\"text-align: right;\">\n",
       "      <th></th>\n",
       "      <th>pop</th>\n",
       "      <th>age_group</th>\n",
       "      <th>est</th>\n",
       "      <th>total</th>\n",
       "      <th>pct</th>\n",
       "    </tr>\n",
       "  </thead>\n",
       "  <tbody>\n",
       "    <tr>\n",
       "      <th>0</th>\n",
       "      <td>oy_yes</td>\n",
       "      <td>16-18</td>\n",
       "      <td>1,815.0</td>\n",
       "      <td>30,141.0</td>\n",
       "      <td>6.0</td>\n",
       "    </tr>\n",
       "    <tr>\n",
       "      <th>1</th>\n",
       "      <td>oy_no</td>\n",
       "      <td>16-18</td>\n",
       "      <td>23,949.0</td>\n",
       "      <td>30,141.0</td>\n",
       "      <td>79.5</td>\n",
       "    </tr>\n",
       "    <tr>\n",
       "      <th>2</th>\n",
       "      <td>working w/o a diploma</td>\n",
       "      <td>16-18</td>\n",
       "      <td>4,377.0</td>\n",
       "      <td>30,141.0</td>\n",
       "      <td>14.5</td>\n",
       "    </tr>\n",
       "    <tr>\n",
       "      <th>3</th>\n",
       "      <td>oy_yes</td>\n",
       "      <td>19-21</td>\n",
       "      <td>3,902.0</td>\n",
       "      <td>25,486.0</td>\n",
       "      <td>15.3</td>\n",
       "    </tr>\n",
       "    <tr>\n",
       "      <th>4</th>\n",
       "      <td>oy_no</td>\n",
       "      <td>19-21</td>\n",
       "      <td>19,954.0</td>\n",
       "      <td>25,486.0</td>\n",
       "      <td>78.3</td>\n",
       "    </tr>\n",
       "    <tr>\n",
       "      <th>5</th>\n",
       "      <td>working w/o a diploma</td>\n",
       "      <td>19-21</td>\n",
       "      <td>1,630.0</td>\n",
       "      <td>25,486.0</td>\n",
       "      <td>6.4</td>\n",
       "    </tr>\n",
       "    <tr>\n",
       "      <th>6</th>\n",
       "      <td>oy_no</td>\n",
       "      <td>22-24</td>\n",
       "      <td>23,707.0</td>\n",
       "      <td>30,256.0</td>\n",
       "      <td>78.4</td>\n",
       "    </tr>\n",
       "    <tr>\n",
       "      <th>7</th>\n",
       "      <td>working w/o a diploma</td>\n",
       "      <td>22-24</td>\n",
       "      <td>1,652.0</td>\n",
       "      <td>30,256.0</td>\n",
       "      <td>5.5</td>\n",
       "    </tr>\n",
       "    <tr>\n",
       "      <th>8</th>\n",
       "      <td>oy_yes</td>\n",
       "      <td>22-24</td>\n",
       "      <td>4,897.0</td>\n",
       "      <td>30,256.0</td>\n",
       "      <td>16.2</td>\n",
       "    </tr>\n",
       "  </tbody>\n",
       "</table>\n",
       "</div>"
      ],
      "text/plain": [
       "                     pop age_group      est    total  pct\n",
       "0                 oy_yes     16-18  1,815.0 30,141.0  6.0\n",
       "1                  oy_no     16-18 23,949.0 30,141.0 79.5\n",
       "2  working w/o a diploma     16-18  4,377.0 30,141.0 14.5\n",
       "3                 oy_yes     19-21  3,902.0 25,486.0 15.3\n",
       "4                  oy_no     19-21 19,954.0 25,486.0 78.3\n",
       "5  working w/o a diploma     19-21  1,630.0 25,486.0  6.4\n",
       "6                  oy_no     22-24 23,707.0 30,256.0 78.4\n",
       "7  working w/o a diploma     22-24  1,652.0 30,256.0  5.5\n",
       "8                 oy_yes     22-24  4,897.0 30,256.0 16.2"
      ]
     },
     "execution_count": 8,
     "metadata": {},
     "output_type": "execute_result"
    }
   ],
   "source": [
    "df_oy"
   ]
  },
  {
   "cell_type": "code",
   "execution_count": 5,
   "metadata": {},
   "outputs": [
    {
     "data": {
      "text/html": [
       "<div>\n",
       "<style scoped>\n",
       "    .dataframe tbody tr th:only-of-type {\n",
       "        vertical-align: middle;\n",
       "    }\n",
       "\n",
       "    .dataframe tbody tr th {\n",
       "        vertical-align: top;\n",
       "    }\n",
       "\n",
       "    .dataframe thead tr th {\n",
       "        text-align: left;\n",
       "    }\n",
       "\n",
       "    .dataframe thead tr:last-of-type th {\n",
       "        text-align: right;\n",
       "    }\n",
       "</style>\n",
       "<table border=\"1\" class=\"dataframe\">\n",
       "  <thead>\n",
       "    <tr>\n",
       "      <th></th>\n",
       "      <th colspan=\"3\" halign=\"left\">est</th>\n",
       "      <th colspan=\"3\" halign=\"left\">total</th>\n",
       "      <th colspan=\"3\" halign=\"left\">pct</th>\n",
       "    </tr>\n",
       "    <tr>\n",
       "      <th>age_group</th>\n",
       "      <th>16-18</th>\n",
       "      <th>19-21</th>\n",
       "      <th>22-24</th>\n",
       "      <th>16-18</th>\n",
       "      <th>19-21</th>\n",
       "      <th>22-24</th>\n",
       "      <th>16-18</th>\n",
       "      <th>19-21</th>\n",
       "      <th>22-24</th>\n",
       "    </tr>\n",
       "    <tr>\n",
       "      <th>pop</th>\n",
       "      <th></th>\n",
       "      <th></th>\n",
       "      <th></th>\n",
       "      <th></th>\n",
       "      <th></th>\n",
       "      <th></th>\n",
       "      <th></th>\n",
       "      <th></th>\n",
       "      <th></th>\n",
       "    </tr>\n",
       "  </thead>\n",
       "  <tbody>\n",
       "    <tr>\n",
       "      <th>oy_no</th>\n",
       "      <td>23,949.0</td>\n",
       "      <td>19,954.0</td>\n",
       "      <td>23,707.0</td>\n",
       "      <td>30,141.0</td>\n",
       "      <td>25,486.0</td>\n",
       "      <td>30,256.0</td>\n",
       "      <td>79.5</td>\n",
       "      <td>78.3</td>\n",
       "      <td>78.4</td>\n",
       "    </tr>\n",
       "    <tr>\n",
       "      <th>oy_yes</th>\n",
       "      <td>1,815.0</td>\n",
       "      <td>3,902.0</td>\n",
       "      <td>4,897.0</td>\n",
       "      <td>30,141.0</td>\n",
       "      <td>25,486.0</td>\n",
       "      <td>30,256.0</td>\n",
       "      <td>6.0</td>\n",
       "      <td>15.3</td>\n",
       "      <td>16.2</td>\n",
       "    </tr>\n",
       "    <tr>\n",
       "      <th>working w/o a diploma</th>\n",
       "      <td>4,377.0</td>\n",
       "      <td>1,630.0</td>\n",
       "      <td>1,652.0</td>\n",
       "      <td>30,141.0</td>\n",
       "      <td>25,486.0</td>\n",
       "      <td>30,256.0</td>\n",
       "      <td>14.5</td>\n",
       "      <td>6.4</td>\n",
       "      <td>5.5</td>\n",
       "    </tr>\n",
       "  </tbody>\n",
       "</table>\n",
       "</div>"
      ],
      "text/plain": [
       "                           est                      total                    \\\n",
       "age_group                16-18    19-21    22-24    16-18    19-21    22-24   \n",
       "pop                                                                           \n",
       "oy_no                 23,949.0 19,954.0 23,707.0 30,141.0 25,486.0 30,256.0   \n",
       "oy_yes                 1,815.0  3,902.0  4,897.0 30,141.0 25,486.0 30,256.0   \n",
       "working w/o a diploma  4,377.0  1,630.0  1,652.0 30,141.0 25,486.0 30,256.0   \n",
       "\n",
       "                        pct              \n",
       "age_group             16-18 19-21 22-24  \n",
       "pop                                      \n",
       "oy_no                  79.5  78.3  78.4  \n",
       "oy_yes                  6.0  15.3  16.2  \n",
       "working w/o a diploma  14.5   6.4   5.5  "
      ]
     },
     "execution_count": 5,
     "metadata": {},
     "output_type": "execute_result"
    }
   ],
   "source": [
    "df_oy_new = df_oy.pivot(index='pop', columns='age_group', values=['est','total','pct'])\n",
    "pd.options.display.float_format = '{:,.1f}'.format\n",
    "df_oy_new"
   ]
  },
  {
   "cell_type": "code",
   "execution_count": 6,
   "metadata": {},
   "outputs": [
    {
     "name": "stdout",
     "output_type": "stream",
     "text": [
      "/Users/karenwarmbein/ds/lectures/opportunity_youth\r\n"
     ]
    }
   ],
   "source": [
    "!pwd\n"
   ]
  },
  {
   "cell_type": "code",
   "execution_count": null,
   "metadata": {},
   "outputs": [],
   "source": [
    "df_oy_new['Totals'] = df_oy_new.sum(axis=1)\n",
    "df_oy_new.to_csv(\"data/processed/OY_Status_by_Age.csv\", index=True)"
   ]
  },
  {
   "cell_type": "code",
   "execution_count": 7,
   "metadata": {},
   "outputs": [],
   "source": [
    "df_oy_new.to_excel(\"data/processed/OY_Status_by_Age.xlsx\")"
   ]
  },
  {
   "cell_type": "code",
   "execution_count": 9,
   "metadata": {},
   "outputs": [
    {
     "data": {
      "text/html": [
       "<div>\n",
       "<style scoped>\n",
       "    .dataframe tbody tr th:only-of-type {\n",
       "        vertical-align: middle;\n",
       "    }\n",
       "\n",
       "    .dataframe tbody tr th {\n",
       "        vertical-align: top;\n",
       "    }\n",
       "\n",
       "    .dataframe thead tr th {\n",
       "        text-align: left;\n",
       "    }\n",
       "\n",
       "    .dataframe thead tr:last-of-type th {\n",
       "        text-align: right;\n",
       "    }\n",
       "</style>\n",
       "<table border=\"1\" class=\"dataframe\">\n",
       "  <thead>\n",
       "    <tr>\n",
       "      <th></th>\n",
       "      <th colspan=\"3\" halign=\"left\">est</th>\n",
       "      <th colspan=\"3\" halign=\"left\">total</th>\n",
       "      <th colspan=\"3\" halign=\"left\">pct</th>\n",
       "    </tr>\n",
       "    <tr>\n",
       "      <th>age_group</th>\n",
       "      <th>16-18</th>\n",
       "      <th>19-21</th>\n",
       "      <th>22-24</th>\n",
       "      <th>16-18</th>\n",
       "      <th>19-21</th>\n",
       "      <th>22-24</th>\n",
       "      <th>16-18</th>\n",
       "      <th>19-21</th>\n",
       "      <th>22-24</th>\n",
       "    </tr>\n",
       "    <tr>\n",
       "      <th>pop</th>\n",
       "      <th></th>\n",
       "      <th></th>\n",
       "      <th></th>\n",
       "      <th></th>\n",
       "      <th></th>\n",
       "      <th></th>\n",
       "      <th></th>\n",
       "      <th></th>\n",
       "      <th></th>\n",
       "    </tr>\n",
       "  </thead>\n",
       "  <tbody>\n",
       "    <tr>\n",
       "      <th>Not an Opportunity Youth</th>\n",
       "      <td>23,949.0</td>\n",
       "      <td>19,954.0</td>\n",
       "      <td>23,707.0</td>\n",
       "      <td>30,141.0</td>\n",
       "      <td>25,486.0</td>\n",
       "      <td>30,256.0</td>\n",
       "      <td>79.5</td>\n",
       "      <td>78.3</td>\n",
       "      <td>78.4</td>\n",
       "    </tr>\n",
       "    <tr>\n",
       "      <th>Opportunity Youth</th>\n",
       "      <td>1,815.0</td>\n",
       "      <td>3,902.0</td>\n",
       "      <td>4,897.0</td>\n",
       "      <td>30,141.0</td>\n",
       "      <td>25,486.0</td>\n",
       "      <td>30,256.0</td>\n",
       "      <td>6.0</td>\n",
       "      <td>15.3</td>\n",
       "      <td>16.2</td>\n",
       "    </tr>\n",
       "    <tr>\n",
       "      <th>Working without a diploma</th>\n",
       "      <td>4,377.0</td>\n",
       "      <td>1,630.0</td>\n",
       "      <td>1,652.0</td>\n",
       "      <td>30,141.0</td>\n",
       "      <td>25,486.0</td>\n",
       "      <td>30,256.0</td>\n",
       "      <td>14.5</td>\n",
       "      <td>6.4</td>\n",
       "      <td>5.5</td>\n",
       "    </tr>\n",
       "  </tbody>\n",
       "</table>\n",
       "</div>"
      ],
      "text/plain": [
       "                               est                      total           \\\n",
       "age_group                    16-18    19-21    22-24    16-18    19-21   \n",
       "pop                                                                      \n",
       "Not an Opportunity Youth  23,949.0 19,954.0 23,707.0 30,141.0 25,486.0   \n",
       "Opportunity Youth          1,815.0  3,902.0  4,897.0 30,141.0 25,486.0   \n",
       "Working without a diploma  4,377.0  1,630.0  1,652.0 30,141.0 25,486.0   \n",
       "\n",
       "                                     pct              \n",
       "age_group                    22-24 16-18 19-21 22-24  \n",
       "pop                                                   \n",
       "Not an Opportunity Youth  30,256.0  79.5  78.3  78.4  \n",
       "Opportunity Youth         30,256.0   6.0  15.3  16.2  \n",
       "Working without a diploma 30,256.0  14.5   6.4   5.5  "
      ]
     },
     "execution_count": 9,
     "metadata": {},
     "output_type": "execute_result"
    }
   ],
   "source": [
    "df_oy_new.rename(index={'oy_no':'Not an Opportunity Youth', 'oy_yes':'Opportunity Youth','working w/o a diploma':'Working without a diploma'})"
   ]
  },
  {
   "cell_type": "code",
   "execution_count": null,
   "metadata": {},
   "outputs": [],
   "source": []
  },
  {
   "cell_type": "code",
   "execution_count": null,
   "metadata": {},
   "outputs": [],
   "source": [
    "df_oy_new['Total Population'] = df_oy_new.sum()\n",
    "df_oy_new['Total Population']"
   ]
  },
  {
   "cell_type": "code",
   "execution_count": null,
   "metadata": {},
   "outputs": [],
   "source": [
    "df_oy_new"
   ]
  },
  {
   "cell_type": "code",
   "execution_count": null,
   "metadata": {},
   "outputs": [],
   "source": [
    "df_oy"
   ]
  },
  {
   "cell_type": "code",
   "execution_count": null,
   "metadata": {},
   "outputs": [],
   "source": [
    "\n",
    "pd.wide_to_long(df_oy, stubnames=['est','total','pct'], i='pop', j='age_group').reset_index(drop=True)"
   ]
  },
  {
   "cell_type": "code",
   "execution_count": null,
   "metadata": {},
   "outputs": [],
   "source": []
  }
 ],
 "metadata": {
  "kernelspec": {
   "display_name": "oy-env",
   "language": "python",
   "name": "oy-env"
  },
  "language_info": {
   "codemirror_mode": {
    "name": "ipython",
    "version": 3
   },
   "file_extension": ".py",
   "mimetype": "text/x-python",
   "name": "python",
   "nbconvert_exporter": "python",
   "pygments_lexer": "ipython3",
   "version": "3.7.3"
  }
 },
 "nbformat": 4,
 "nbformat_minor": 2
}
