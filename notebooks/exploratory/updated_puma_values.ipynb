{
 "cells": [
  {
   "cell_type": "markdown",
   "metadata": {},
   "source": [
    "# Data Reduction\n",
    "\n",
    "## Goals for this notebook:\n"
   ]
  },
  {
   "cell_type": "markdown",
   "metadata": {},
   "source": [
    "- Show a definition of PUMAs for South King County\n",
    "- Import PSQL searches and load as DataFrames\n",
    "- Find the total number of persons we can identify in South King County as OY"
   ]
  },
  {
   "cell_type": "markdown",
   "metadata": {},
   "source": [
    "## Method"
   ]
  },
  {
   "cell_type": "markdown",
   "metadata": {},
   "source": [
    "We use Pandas to import PSQL searches and loaded the results as DataFrames. We find count totals with the 'sum()' method. Finally we desplay the total number of persons we can identify in South King County as OY."
   ]
  },
  {
   "cell_type": "markdown",
   "metadata": {},
   "source": [
    "## Detailed Steps"
   ]
  },
  {
   "cell_type": "markdown",
   "metadata": {},
   "source": [
    "Import the necessary packages"
   ]
  },
  {
   "cell_type": "code",
   "execution_count": 8,
   "metadata": {},
   "outputs": [],
   "source": [
    "import pandas as pd\n",
    "from sqlalchemy import create_engine"
   ]
  },
  {
   "cell_type": "markdown",
   "metadata": {},
   "source": [
    "Create a pointer to the PSQL database"
   ]
  },
  {
   "cell_type": "code",
   "execution_count": 9,
   "metadata": {},
   "outputs": [],
   "source": [
    "engine = create_engine(\"postgresql:///opportunity_youth\")"
   ]
  },
  {
   "cell_type": "markdown",
   "metadata": {},
   "source": [
    "Import a psql table as a pandas DataFrame and display the dataframe. This result is the sum of all people sampled in King County."
   ]
  },
  {
   "cell_type": "code",
   "execution_count": 13,
   "metadata": {},
   "outputs": [
    {
     "data": {
      "text/html": [
       "<div>\n",
       "<style scoped>\n",
       "    .dataframe tbody tr th:only-of-type {\n",
       "        vertical-align: middle;\n",
       "    }\n",
       "\n",
       "    .dataframe tbody tr th {\n",
       "        vertical-align: top;\n",
       "    }\n",
       "\n",
       "    .dataframe thead th {\n",
       "        text-align: right;\n",
       "    }\n",
       "</style>\n",
       "<table border=\"1\" class=\"dataframe\">\n",
       "  <thead>\n",
       "    <tr style=\"text-align: right;\">\n",
       "      <th></th>\n",
       "      <th>sum</th>\n",
       "    </tr>\n",
       "  </thead>\n",
       "  <tbody>\n",
       "    <tr>\n",
       "      <th>0</th>\n",
       "      <td>2118268.0</td>\n",
       "    </tr>\n",
       "  </tbody>\n",
       "</table>\n",
       "</div>"
      ],
      "text/plain": [
       "         sum\n",
       "0  2118268.0"
      ]
     },
     "execution_count": 13,
     "metadata": {},
     "output_type": "execute_result"
    }
   ],
   "source": [
    "puma_name = pd.read_sql(sql=\"SELECT * FROM tot_people_in_KC;\", con=engine)\n",
    "puma_name"
   ]
  },
  {
   "cell_type": "markdown",
   "metadata": {},
   "source": [
    "List all the OY sample results for all the pumas in King County."
   ]
  },
  {
   "cell_type": "code",
   "execution_count": 78,
   "metadata": {},
   "outputs": [
    {
     "data": {
      "text/html": [
       "<style  type=\"text/css\" >\n",
       "</style><table id=\"T_1f030c64_05a4_11ea_8821_2cf0ee1c915c\" ><thead>    <tr>        <th class=\"col_heading level0 col0\" >puma</th>        <th class=\"col_heading level0 col1\" >sum</th>    </tr></thead><tbody>\n",
       "                <tr>\n",
       "                                <td id=\"T_1f030c64_05a4_11ea_8821_2cf0ee1c915crow0_col0\" class=\"data row0 col0\" >11601</td>\n",
       "                        <td id=\"T_1f030c64_05a4_11ea_8821_2cf0ee1c915crow0_col1\" class=\"data row0 col1\" >657</td>\n",
       "            </tr>\n",
       "            <tr>\n",
       "                                <td id=\"T_1f030c64_05a4_11ea_8821_2cf0ee1c915crow1_col0\" class=\"data row1 col0\" >11602</td>\n",
       "                        <td id=\"T_1f030c64_05a4_11ea_8821_2cf0ee1c915crow1_col1\" class=\"data row1 col1\" >1325</td>\n",
       "            </tr>\n",
       "            <tr>\n",
       "                                <td id=\"T_1f030c64_05a4_11ea_8821_2cf0ee1c915crow2_col0\" class=\"data row2 col0\" >11603</td>\n",
       "                        <td id=\"T_1f030c64_05a4_11ea_8821_2cf0ee1c915crow2_col1\" class=\"data row2 col1\" >1032</td>\n",
       "            </tr>\n",
       "            <tr>\n",
       "                                <td id=\"T_1f030c64_05a4_11ea_8821_2cf0ee1c915crow3_col0\" class=\"data row3 col0\" >11604</td>\n",
       "                        <td id=\"T_1f030c64_05a4_11ea_8821_2cf0ee1c915crow3_col1\" class=\"data row3 col1\" >916</td>\n",
       "            </tr>\n",
       "            <tr>\n",
       "                                <td id=\"T_1f030c64_05a4_11ea_8821_2cf0ee1c915crow4_col0\" class=\"data row4 col0\" >11605</td>\n",
       "                        <td id=\"T_1f030c64_05a4_11ea_8821_2cf0ee1c915crow4_col1\" class=\"data row4 col1\" >908</td>\n",
       "            </tr>\n",
       "            <tr>\n",
       "                                <td id=\"T_1f030c64_05a4_11ea_8821_2cf0ee1c915crow5_col0\" class=\"data row5 col0\" >11606</td>\n",
       "                        <td id=\"T_1f030c64_05a4_11ea_8821_2cf0ee1c915crow5_col1\" class=\"data row5 col1\" >812</td>\n",
       "            </tr>\n",
       "            <tr>\n",
       "                                <td id=\"T_1f030c64_05a4_11ea_8821_2cf0ee1c915crow6_col0\" class=\"data row6 col0\" >11607</td>\n",
       "                        <td id=\"T_1f030c64_05a4_11ea_8821_2cf0ee1c915crow6_col1\" class=\"data row6 col1\" >926</td>\n",
       "            </tr>\n",
       "            <tr>\n",
       "                                <td id=\"T_1f030c64_05a4_11ea_8821_2cf0ee1c915crow7_col0\" class=\"data row7 col0\" >11608</td>\n",
       "                        <td id=\"T_1f030c64_05a4_11ea_8821_2cf0ee1c915crow7_col1\" class=\"data row7 col1\" >1086</td>\n",
       "            </tr>\n",
       "            <tr>\n",
       "                                <td id=\"T_1f030c64_05a4_11ea_8821_2cf0ee1c915crow8_col0\" class=\"data row8 col0\" >11609</td>\n",
       "                        <td id=\"T_1f030c64_05a4_11ea_8821_2cf0ee1c915crow8_col1\" class=\"data row8 col1\" >755</td>\n",
       "            </tr>\n",
       "            <tr>\n",
       "                                <td id=\"T_1f030c64_05a4_11ea_8821_2cf0ee1c915crow9_col0\" class=\"data row9 col0\" >11610</td>\n",
       "                        <td id=\"T_1f030c64_05a4_11ea_8821_2cf0ee1c915crow9_col1\" class=\"data row9 col1\" >1853</td>\n",
       "            </tr>\n",
       "            <tr>\n",
       "                                <td id=\"T_1f030c64_05a4_11ea_8821_2cf0ee1c915crow10_col0\" class=\"data row10 col0\" >11611</td>\n",
       "                        <td id=\"T_1f030c64_05a4_11ea_8821_2cf0ee1c915crow10_col1\" class=\"data row10 col1\" >2038</td>\n",
       "            </tr>\n",
       "            <tr>\n",
       "                                <td id=\"T_1f030c64_05a4_11ea_8821_2cf0ee1c915crow11_col0\" class=\"data row11 col0\" >11612</td>\n",
       "                        <td id=\"T_1f030c64_05a4_11ea_8821_2cf0ee1c915crow11_col1\" class=\"data row11 col1\" >1977</td>\n",
       "            </tr>\n",
       "            <tr>\n",
       "                                <td id=\"T_1f030c64_05a4_11ea_8821_2cf0ee1c915crow12_col0\" class=\"data row12 col0\" >11613</td>\n",
       "                        <td id=\"T_1f030c64_05a4_11ea_8821_2cf0ee1c915crow12_col1\" class=\"data row12 col1\" >2006</td>\n",
       "            </tr>\n",
       "            <tr>\n",
       "                                <td id=\"T_1f030c64_05a4_11ea_8821_2cf0ee1c915crow13_col0\" class=\"data row13 col0\" >11614</td>\n",
       "                        <td id=\"T_1f030c64_05a4_11ea_8821_2cf0ee1c915crow13_col1\" class=\"data row13 col1\" >1530</td>\n",
       "            </tr>\n",
       "            <tr>\n",
       "                                <td id=\"T_1f030c64_05a4_11ea_8821_2cf0ee1c915crow14_col0\" class=\"data row14 col0\" >11615</td>\n",
       "                        <td id=\"T_1f030c64_05a4_11ea_8821_2cf0ee1c915crow14_col1\" class=\"data row14 col1\" >1210</td>\n",
       "            </tr>\n",
       "            <tr>\n",
       "                                <td id=\"T_1f030c64_05a4_11ea_8821_2cf0ee1c915crow15_col0\" class=\"data row15 col0\" >11616</td>\n",
       "                        <td id=\"T_1f030c64_05a4_11ea_8821_2cf0ee1c915crow15_col1\" class=\"data row15 col1\" >953</td>\n",
       "            </tr>\n",
       "    </tbody></table>"
      ],
      "text/plain": [
       "<pandas.io.formats.style.Styler at 0x115055c18>"
      ]
     },
     "execution_count": 78,
     "metadata": {},
     "output_type": "execute_result"
    }
   ],
   "source": [
    "puma_totals = pd.read_sql(sql=\"SELECT * FROM total_by_puma_f;\", con=engine)\n",
    "puma_totals_df = pd.DataFrame(puma_totals)\n",
    "puma_totals_df = puma_totals_df.style.hide_index()\n",
    "puma_totals_df"
   ]
  },
  {
   "cell_type": "markdown",
   "metadata": {},
   "source": [
    "So, we have data from 16 pumas. These are persons   \n",
    "   - between ages 16 and 24, \n",
    "   - not enrolled in school, \n",
    "   - are unimployed or have not worked. \n",
    "The total sample across all pumas is:"
   ]
  },
  {
   "cell_type": "code",
   "execution_count": 74,
   "metadata": {},
   "outputs": [
    {
     "data": {
      "text/plain": [
       "19984.0"
      ]
     },
     "execution_count": 74,
     "metadata": {},
     "output_type": "execute_result"
    }
   ],
   "source": [
    "puma_totals_df['sum'].sum()"
   ]
  },
  {
   "cell_type": "markdown",
   "metadata": {},
   "source": [
    "That's ~20,000 OY in King County from our sample.\n"
   ]
  },
  {
   "cell_type": "markdown",
   "metadata": {},
   "source": [
    "We define South King County by the following six PUMAs:"
   ]
  },
  {
   "cell_type": "code",
   "execution_count": 79,
   "metadata": {},
   "outputs": [
    {
     "data": {
      "text/html": [
       "<style  type=\"text/css\" >\n",
       "</style><table id=\"T_36b51a8c_05a4_11ea_8821_2cf0ee1c915c\" ><thead>    <tr>        <th class=\"col_heading level0 col0\" >puma</th>        <th class=\"col_heading level0 col1\" >puma_name</th>    </tr></thead><tbody>\n",
       "                <tr>\n",
       "                                <td id=\"T_36b51a8c_05a4_11ea_8821_2cf0ee1c915crow0_col0\" class=\"data row0 col0\" >11610</td>\n",
       "                        <td id=\"T_36b51a8c_05a4_11ea_8821_2cf0ee1c915crow0_col1\" class=\"data row0 col1\" >King County (Central)--Renton City, Fairwood, Bryn Mawr & Skyway                                                                                                                                                                                                                                                                                                                                                                                                                                                    </td>\n",
       "            </tr>\n",
       "            <tr>\n",
       "                                <td id=\"T_36b51a8c_05a4_11ea_8821_2cf0ee1c915crow1_col0\" class=\"data row1 col0\" >11611</td>\n",
       "                        <td id=\"T_36b51a8c_05a4_11ea_8821_2cf0ee1c915crow1_col1\" class=\"data row1 col1\" >King County (West Central)--Burien, SeaTac, Tukwila Cities & White Center                                                                                                                                                                                                                                                                                                                                                                                                                                           </td>\n",
       "            </tr>\n",
       "            <tr>\n",
       "                                <td id=\"T_36b51a8c_05a4_11ea_8821_2cf0ee1c915crow2_col0\" class=\"data row2 col0\" >11612</td>\n",
       "                        <td id=\"T_36b51a8c_05a4_11ea_8821_2cf0ee1c915crow2_col1\" class=\"data row2 col1\" >King County (Far Southwest)--Federal Way, Des Moines Cities & Vashon Island                                                                                                                                                                                                                                                                                                                                                                                                                                         </td>\n",
       "            </tr>\n",
       "            <tr>\n",
       "                                <td id=\"T_36b51a8c_05a4_11ea_8821_2cf0ee1c915crow3_col0\" class=\"data row3 col0\" >11613</td>\n",
       "                        <td id=\"T_36b51a8c_05a4_11ea_8821_2cf0ee1c915crow3_col1\" class=\"data row3 col1\" >King County (Southwest Central)--Kent City                                                                                                                                                                                                                                                                                                                                                                                                                                                                          </td>\n",
       "            </tr>\n",
       "            <tr>\n",
       "                                <td id=\"T_36b51a8c_05a4_11ea_8821_2cf0ee1c915crow4_col0\" class=\"data row4 col0\" >11614</td>\n",
       "                        <td id=\"T_36b51a8c_05a4_11ea_8821_2cf0ee1c915crow4_col1\" class=\"data row4 col1\" >King County (Southwest)--Auburn City & Lakeland                                                                                                                                                                                                                                                                                                                                                                                                                                                                     </td>\n",
       "            </tr>\n",
       "            <tr>\n",
       "                                <td id=\"T_36b51a8c_05a4_11ea_8821_2cf0ee1c915crow5_col0\" class=\"data row5 col0\" >11615</td>\n",
       "                        <td id=\"T_36b51a8c_05a4_11ea_8821_2cf0ee1c915crow5_col1\" class=\"data row5 col1\" >King County (Southeast)--Maple Valley, Covington & Enumclaw Cities                                                                                                                                                                                                                                                                                                                                                                                                                                                  </td>\n",
       "            </tr>\n",
       "    </tbody></table>"
      ],
      "text/plain": [
       "<pandas.io.formats.style.Styler at 0x11514b5f8>"
      ]
     },
     "execution_count": 79,
     "metadata": {},
     "output_type": "execute_result"
    }
   ],
   "source": [
    "#force rightmost column to display wider\n",
    "pd.options.display.max_rows\n",
    "pd.set_option('display.max_colwidth', -1)\n",
    "\n",
    "puma_names_list = pd.read_sql(sql=\"SELECT * FROM puma_names_finder0;\", con=engine)\n",
    "puma_names_df = pd.DataFrame(puma_names_list).style.hide_index()\n",
    "puma_names_df"
   ]
  },
  {
   "cell_type": "markdown",
   "metadata": {},
   "source": [
    "The weighted sum of persons for each PUMA in South King County is given by:"
   ]
  },
  {
   "cell_type": "code",
   "execution_count": 80,
   "metadata": {},
   "outputs": [
    {
     "data": {
      "text/html": [
       "<style  type=\"text/css\" >\n",
       "</style><table id=\"T_3cf4b9b6_05a4_11ea_8821_2cf0ee1c915c\" ><thead>    <tr>        <th class=\"col_heading level0 col0\" >puma</th>        <th class=\"col_heading level0 col1\" >sum</th>    </tr></thead><tbody>\n",
       "                <tr>\n",
       "                                <td id=\"T_3cf4b9b6_05a4_11ea_8821_2cf0ee1c915crow0_col0\" class=\"data row0 col0\" >11610</td>\n",
       "                        <td id=\"T_3cf4b9b6_05a4_11ea_8821_2cf0ee1c915crow0_col1\" class=\"data row0 col1\" >1853</td>\n",
       "            </tr>\n",
       "            <tr>\n",
       "                                <td id=\"T_3cf4b9b6_05a4_11ea_8821_2cf0ee1c915crow1_col0\" class=\"data row1 col0\" >11611</td>\n",
       "                        <td id=\"T_3cf4b9b6_05a4_11ea_8821_2cf0ee1c915crow1_col1\" class=\"data row1 col1\" >2038</td>\n",
       "            </tr>\n",
       "            <tr>\n",
       "                                <td id=\"T_3cf4b9b6_05a4_11ea_8821_2cf0ee1c915crow2_col0\" class=\"data row2 col0\" >11612</td>\n",
       "                        <td id=\"T_3cf4b9b6_05a4_11ea_8821_2cf0ee1c915crow2_col1\" class=\"data row2 col1\" >1977</td>\n",
       "            </tr>\n",
       "            <tr>\n",
       "                                <td id=\"T_3cf4b9b6_05a4_11ea_8821_2cf0ee1c915crow3_col0\" class=\"data row3 col0\" >11613</td>\n",
       "                        <td id=\"T_3cf4b9b6_05a4_11ea_8821_2cf0ee1c915crow3_col1\" class=\"data row3 col1\" >2006</td>\n",
       "            </tr>\n",
       "            <tr>\n",
       "                                <td id=\"T_3cf4b9b6_05a4_11ea_8821_2cf0ee1c915crow4_col0\" class=\"data row4 col0\" >11614</td>\n",
       "                        <td id=\"T_3cf4b9b6_05a4_11ea_8821_2cf0ee1c915crow4_col1\" class=\"data row4 col1\" >1530</td>\n",
       "            </tr>\n",
       "            <tr>\n",
       "                                <td id=\"T_3cf4b9b6_05a4_11ea_8821_2cf0ee1c915crow5_col0\" class=\"data row5 col0\" >11615</td>\n",
       "                        <td id=\"T_3cf4b9b6_05a4_11ea_8821_2cf0ee1c915crow5_col1\" class=\"data row5 col1\" >1210</td>\n",
       "            </tr>\n",
       "    </tbody></table>"
      ],
      "text/plain": [
       "<pandas.io.formats.style.Styler at 0x1150e4a20>"
      ]
     },
     "execution_count": 80,
     "metadata": {},
     "output_type": "execute_result"
    }
   ],
   "source": [
    "puma_oy_totals = pd.read_sql(sql=\"SELECT * FROM OY_by_puma0;\", con=engine)\n",
    "puma_oy_totals_df = pd.DataFrame(puma_oy_totals).style.hide_index()\n",
    "puma_oy_totals_df"
   ]
  },
  {
   "cell_type": "markdown",
   "metadata": {},
   "source": [
    "Adding the sum column:"
   ]
  },
  {
   "cell_type": "code",
   "execution_count": 76,
   "metadata": {},
   "outputs": [
    {
     "name": "stdout",
     "output_type": "stream",
     "text": [
      "In South King county there are 10614.0 persons we can identify as OY.\n"
     ]
    }
   ],
   "source": [
    "print('In South King county there are ' + str(puma_oy_totals['sum'].sum()) + ' persons we can identify as OY.')"
   ]
  },
  {
   "cell_type": "code",
   "execution_count": null,
   "metadata": {},
   "outputs": [],
   "source": []
  }
 ],
 "metadata": {
  "kernelspec": {
   "display_name": "oy-env",
   "language": "python",
   "name": "oy-env"
  },
  "language_info": {
   "codemirror_mode": {
    "name": "ipython",
    "version": 3
   },
   "file_extension": ".py",
   "mimetype": "text/x-python",
   "name": "python",
   "nbconvert_exporter": "python",
   "pygments_lexer": "ipython3",
   "version": "3.7.3"
  }
 },
 "nbformat": 4,
 "nbformat_minor": 2
}
