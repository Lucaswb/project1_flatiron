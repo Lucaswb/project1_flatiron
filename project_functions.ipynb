{
 "cells": [
  {
   "cell_type": "code",
   "execution_count": 7,
   "metadata": {},
   "outputs": [],
   "source": [
    "import numpy as np\n",
    "import pandas as pd"
   ]
  },
  {
   "cell_type": "code",
   "execution_count": 8,
   "metadata": {},
   "outputs": [],
   "source": [
    "def get_average(data, col_name, age1 = 16, age2 = 24):\n",
    "    try: \n",
    "        filtered_data = data[(data.agep >= age1) & (data.agep <= age2)]\n",
    "        filtered_data['weighted_sum'] = filtered_data[col_name]*filtered_data['pwgtp']\n",
    "        sum_of_weighted_data = filtered_data['weighted_sum'].sum()\n",
    "        sum_of_weights = filtered_data['pwgtp'].sum()\n",
    "        return sum_of_weighted_data/sum_of_weights\n",
    "    except:\n",
    "        print(\"operation could not be completed\")\n",
    "\n",
    "\n",
    "def weight_sum(df):\n",
    "    weighted_sum = df['pwgtp'].sum()\n",
    "    return weighted_sum\n",
    "                      \n",
    "\n",
    "def trisect_ages(df):\n",
    "    df_16_18 = df[(df.agep>=16) & (df.agep <= 18)]\n",
    "    value_16_18 = weight_sum(df_16_18)\n",
    "    \n",
    "    df_19_21 = df[(df.agep>=19) & (df.agep <= 21)]\n",
    "    value_19_21 = weight_sum(df_19_21)\n",
    "    \n",
    "    df_22_24 = df[(df.agep>=22) & (df.agep <= 24)]\n",
    "    value_22_24 = weight_sum(df_22_24)\n",
    "    \n",
    "    value_total = weight_sum(df)\n",
    "    \n",
    "    value_array = np.array([value_16_18, value_19_21, value_22_24, value_total])\n",
    "    return value_array\n",
    "\n",
    "def form_2d_array(df_list):\n",
    "    new_list = np.zeros(len(df_list)+1)\n",
    "    df_array = np.array(df_list)\n",
    "    df_table = np.array([trisect_ages(x_df) for x_df in df_array])\n",
    "    \n",
    "    for x in range(len(df_list)+1):\n",
    "        element = df_table[0][x]-(df_table[1][x]+df_table[2][x])\n",
    "        new_list[x] = element\n",
    "    final_table = np.append(df_table, [new_list], axis = 0)\n",
    "    \n",
    "    return final_table\n",
    "    \n",
    "\n",
    "def create_df(array_entry, columns_entry, index_entry):\n",
    "    df = pd.DataFrame(array_entry, columns = columns_entry, index = index_entry)\n",
    "    return df\n",
    "    "
   ]
  },
  {
   "cell_type": "code",
   "execution_count": null,
   "metadata": {},
   "outputs": [],
   "source": []
  }
 ],
 "metadata": {
  "kernelspec": {
   "display_name": "oy-env",
   "language": "python",
   "name": "oy-env"
  },
  "language_info": {
   "codemirror_mode": {
    "name": "ipython",
    "version": 3
   },
   "file_extension": ".py",
   "mimetype": "text/x-python",
   "name": "python",
   "nbconvert_exporter": "python",
   "pygments_lexer": "ipython3",
   "version": "3.7.3"
  }
 },
 "nbformat": 4,
 "nbformat_minor": 2
}
