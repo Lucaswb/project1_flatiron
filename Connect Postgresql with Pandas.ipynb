{
 "cells": [
  {
   "cell_type": "markdown",
   "metadata": {},
   "source": [
    "## Load Necessary"
   ]
  },
  {
   "cell_type": "code",
   "execution_count": 1,
   "metadata": {},
   "outputs": [],
   "source": [
    "from sqlalchemy import create_engine\n",
    "import pandas as pd"
   ]
  },
  {
   "cell_type": "markdown",
   "metadata": {},
   "source": [
    "## create pointer to psql database"
   ]
  },
  {
   "cell_type": "code",
   "execution_count": 2,
   "metadata": {},
   "outputs": [],
   "source": [
    "engine = create_engine('postgresql:///opportunity_youth') # since database is owned by me, no other credentials are needed"
   ]
  },
  {
   "cell_type": "markdown",
   "metadata": {},
   "source": [
    "## Import a psql table as a pandas DataFrame"
   ]
  },
  {
   "cell_type": "code",
   "execution_count": 3,
   "metadata": {},
   "outputs": [],
   "source": [
    "puma_names_df = pd.read_sql(sql = \"SELECT * FROM puma_names_2010;\", con = engine)"
   ]
  },
  {
   "cell_type": "markdown",
   "metadata": {},
   "source": [
    "## Inspect the results"
   ]
  },
  {
   "cell_type": "code",
   "execution_count": 4,
   "metadata": {},
   "outputs": [
    {
     "data": {
      "text/html": [
       "<div>\n",
       "<style scoped>\n",
       "    .dataframe tbody tr th:only-of-type {\n",
       "        vertical-align: middle;\n",
       "    }\n",
       "\n",
       "    .dataframe tbody tr th {\n",
       "        vertical-align: top;\n",
       "    }\n",
       "\n",
       "    .dataframe thead th {\n",
       "        text-align: right;\n",
       "    }\n",
       "</style>\n",
       "<table border=\"1\" class=\"dataframe\">\n",
       "  <thead>\n",
       "    <tr style=\"text-align: right;\">\n",
       "      <th></th>\n",
       "      <th>state_fips</th>\n",
       "      <th>state_name</th>\n",
       "      <th>cpuma0010</th>\n",
       "      <th>puma</th>\n",
       "      <th>geoid</th>\n",
       "      <th>gisjoin</th>\n",
       "      <th>puma_name</th>\n",
       "    </tr>\n",
       "  </thead>\n",
       "  <tbody>\n",
       "    <tr>\n",
       "      <th>0</th>\n",
       "      <td>1</td>\n",
       "      <td>Alabama                                       ...</td>\n",
       "      <td>1</td>\n",
       "      <td>100</td>\n",
       "      <td>100100</td>\n",
       "      <td>G01000100</td>\n",
       "      <td>Lauderdale, Colbert, Franklin &amp; Marion (Northe...</td>\n",
       "    </tr>\n",
       "    <tr>\n",
       "      <th>1</th>\n",
       "      <td>1</td>\n",
       "      <td>Alabama                                       ...</td>\n",
       "      <td>1</td>\n",
       "      <td>800</td>\n",
       "      <td>100800</td>\n",
       "      <td>G01000800</td>\n",
       "      <td>St. Clair &amp; Blount Counties                   ...</td>\n",
       "    </tr>\n",
       "    <tr>\n",
       "      <th>2</th>\n",
       "      <td>1</td>\n",
       "      <td>Alabama                                       ...</td>\n",
       "      <td>1</td>\n",
       "      <td>1400</td>\n",
       "      <td>101400</td>\n",
       "      <td>G01001400</td>\n",
       "      <td>Walker, Marion (South &amp; West), Fayette &amp; Lamar...</td>\n",
       "    </tr>\n",
       "    <tr>\n",
       "      <th>3</th>\n",
       "      <td>1</td>\n",
       "      <td>Alabama                                       ...</td>\n",
       "      <td>1</td>\n",
       "      <td>1500</td>\n",
       "      <td>101500</td>\n",
       "      <td>G01001500</td>\n",
       "      <td>Tuscaloosa (Outer) &amp; Pickens Counties--Northpo...</td>\n",
       "    </tr>\n",
       "    <tr>\n",
       "      <th>4</th>\n",
       "      <td>1</td>\n",
       "      <td>Alabama                                       ...</td>\n",
       "      <td>1</td>\n",
       "      <td>1600</td>\n",
       "      <td>101600</td>\n",
       "      <td>G01001600</td>\n",
       "      <td>Tuscaloosa &amp; Northport (Southeast) Cities     ...</td>\n",
       "    </tr>\n",
       "  </tbody>\n",
       "</table>\n",
       "</div>"
      ],
      "text/plain": [
       "  state_fips                                         state_name cpuma0010  \\\n",
       "0         1   Alabama                                       ...      1      \n",
       "1         1   Alabama                                       ...      1      \n",
       "2         1   Alabama                                       ...      1      \n",
       "3         1   Alabama                                       ...      1      \n",
       "4         1   Alabama                                       ...      1      \n",
       "\n",
       "    puma    geoid    gisjoin  \\\n",
       "0  100    100100   G01000100   \n",
       "1  800    100800   G01000800   \n",
       "2  1400   101400   G01001400   \n",
       "3  1500   101500   G01001500   \n",
       "4  1600   101600   G01001600   \n",
       "\n",
       "                                           puma_name  \n",
       "0  Lauderdale, Colbert, Franklin & Marion (Northe...  \n",
       "1  St. Clair & Blount Counties                   ...  \n",
       "2  Walker, Marion (South & West), Fayette & Lamar...  \n",
       "3  Tuscaloosa (Outer) & Pickens Counties--Northpo...  \n",
       "4  Tuscaloosa & Northport (Southeast) Cities     ...  "
      ]
     },
     "execution_count": 4,
     "metadata": {},
     "output_type": "execute_result"
    }
   ],
   "source": [
    "puma_names_df.head()"
   ]
  },
  {
   "cell_type": "code",
   "execution_count": null,
   "metadata": {},
   "outputs": [],
   "source": []
  }
 ],
 "metadata": {
  "kernelspec": {
   "display_name": "oy-env",
   "language": "python",
   "name": "oy-env"
  },
  "language_info": {
   "codemirror_mode": {
    "name": "ipython",
    "version": 3
   },
   "file_extension": ".py",
   "mimetype": "text/x-python",
   "name": "python",
   "nbconvert_exporter": "python",
   "pygments_lexer": "ipython3",
   "version": "3.7.3"
  }
 },
 "nbformat": 4,
 "nbformat_minor": 2
}
