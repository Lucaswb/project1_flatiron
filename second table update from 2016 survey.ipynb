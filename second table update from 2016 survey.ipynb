{
 "cells": [
  {
   "cell_type": "code",
   "execution_count": 54,
   "metadata": {},
   "outputs": [],
   "source": [
    "from sqlalchemy import create_engine\n",
    "import matplotlib.pyplot as plt\n",
    "import pandas as pd\n",
    "import numpy as np\n",
    "import ipynb.fs.full.project_functions as prf"
   ]
  },
  {
   "cell_type": "code",
   "execution_count": 2,
   "metadata": {},
   "outputs": [],
   "source": [
    "engine = create_engine('postgresql:///opportunity_youth') # since database is owned by me, no other credentials are needed"
   ]
  },
  {
   "cell_type": "code",
   "execution_count": 3,
   "metadata": {},
   "outputs": [],
   "source": [
    "hs_diploma = \"\"\"\n",
    "SELECT pwgtp, agep, schl\n",
    "FROM pums_2017\n",
    "WHERE (puma BETWEEN '11610' AND '11615')\n",
    "    AND (agep BETWEEN 16 AND 24)\n",
    "    AND (esr  = '3' OR esr = '6')\n",
    "    AND (schl = '16' OR schl = '17')\n",
    "    AND sch = '1'\n",
    ";\"\"\"\n"
   ]
  },
  {
   "cell_type": "code",
   "execution_count": 4,
   "metadata": {},
   "outputs": [],
   "source": [
    "no_degree = \"\"\"\n",
    "SELECT pwgtp, agep, schl\n",
    "FROM pums_2017\n",
    "WHERE (puma BETWEEN '11610' AND '11615')\n",
    "    AND (agep BETWEEN 16 AND 24)\n",
    "    AND (esr  = '3' OR esr = '6')\n",
    "    AND (schl <= '15')\n",
    "    AND sch = '1'\n",
    ";\"\"\"\n"
   ]
  },
  {
   "cell_type": "code",
   "execution_count": 5,
   "metadata": {},
   "outputs": [],
   "source": [
    "some_college = \"\"\"\n",
    "SELECT pwgtp, agep, schl\n",
    "FROM pums_2017\n",
    "WHERE (puma BETWEEN '11610' AND '11615')\n",
    "    AND (agep BETWEEN 16 AND 24)\n",
    "    AND (esr  = '3' OR esr = '6')\n",
    "    AND (schl = '18' OR schl = '19')\n",
    "    AND sch = '1'\n",
    ";\n",
    "\"\"\""
   ]
  },
  {
   "cell_type": "code",
   "execution_count": 6,
   "metadata": {},
   "outputs": [],
   "source": [
    "college_deg = \"\"\"\n",
    "SELECT pwgtp, agep, schl\n",
    "FROM pums_2017\n",
    "WHERE (puma BETWEEN '11610' AND '11615')\n",
    "    AND (agep BETWEEN 16 AND 24)\n",
    "    AND (esr  = '3' OR esr = '6')\n",
    "    AND (schl BETWEEN '20' AND '24')\n",
    "    AND sch = '1'\n",
    ";\n",
    "    \"\"\""
   ]
  },
  {
   "cell_type": "code",
   "execution_count": 7,
   "metadata": {},
   "outputs": [],
   "source": [
    "total_oy = \"\"\"\n",
    "SELECT pwgtp, agep, schl\n",
    "FROM pums_2017\n",
    "WHERE (puma BETWEEN '11610' AND '11615')\n",
    "    AND (agep BETWEEN 16 AND 24)\n",
    "    AND (esr  = '3' OR esr = '6')\n",
    "    AND sch = '1'\n",
    ";\n",
    "    \"\"\""
   ]
  },
  {
   "cell_type": "code",
   "execution_count": 8,
   "metadata": {},
   "outputs": [],
   "source": [
    "df_total_oy = pd.read_sql(sql = total_oy, con = engine) #data frame for individuals with highschool degree or GED\n",
    "df_hs_ged = pd.read_sql(sql = hs_diploma, con = engine) #data frame for individuals with highschool degree or GED\n",
    "df_no_degree = pd.read_sql(sql = no_degree, con = engine) #data frame for individuals with no degree\n",
    "df_some_college = pd.read_sql(sql = some_college, con = engine) #data frame for individuals with some college experience\n",
    "df_col_deg = pd.read_sql(sql = college_deg, con = engine) #data frame for individuals with an AA degree or higher"
   ]
  },
  {
   "cell_type": "code",
   "execution_count": 60,
   "metadata": {},
   "outputs": [
    {
     "data": {
      "text/plain": [
       "506.0"
      ]
     },
     "execution_count": 60,
     "metadata": {},
     "output_type": "execute_result"
    }
   ],
   "source": [
    "df_col_deg['pwgtp'].sum()"
   ]
  },
  {
   "cell_type": "code",
   "execution_count": 10,
   "metadata": {},
   "outputs": [
    {
     "data": {
      "text/plain": [
       "16    146\n",
       "17     35\n",
       "19     30\n",
       "15     28\n",
       "13     28\n",
       "14     28\n",
       "18     26\n",
       "12     17\n",
       "01     14\n",
       "21     12\n",
       "11     10\n",
       "20      8\n",
       "10      2\n",
       "08      2\n",
       "06      2\n",
       "09      1\n",
       "05      1\n",
       "22      1\n",
       "Name: schl, dtype: int64"
      ]
     },
     "execution_count": 10,
     "metadata": {},
     "output_type": "execute_result"
    }
   ],
   "source": [
    "df_total_oy['schl'].value_counts()"
   ]
  },
  {
   "cell_type": "code",
   "execution_count": 11,
   "metadata": {},
   "outputs": [
    {
     "data": {
      "text/plain": [
       "16    146\n",
       "17     35\n",
       "Name: schl, dtype: int64"
      ]
     },
     "execution_count": 11,
     "metadata": {},
     "output_type": "execute_result"
    }
   ],
   "source": [
    "df_hs_ged['schl'].value_counts()"
   ]
  },
  {
   "cell_type": "code",
   "execution_count": 12,
   "metadata": {},
   "outputs": [
    {
     "data": {
      "text/plain": [
       "14    28\n",
       "15    28\n",
       "13    28\n",
       "12    17\n",
       "01    14\n",
       "11    10\n",
       "06     2\n",
       "10     2\n",
       "08     2\n",
       "09     1\n",
       "05     1\n",
       "Name: schl, dtype: int64"
      ]
     },
     "execution_count": 12,
     "metadata": {},
     "output_type": "execute_result"
    }
   ],
   "source": [
    "df_no_degree['schl'].value_counts()"
   ]
  },
  {
   "cell_type": "markdown",
   "metadata": {},
   "source": [
    "### functions used for the project"
   ]
  },
  {
   "cell_type": "code",
   "execution_count": 40,
   "metadata": {},
   "outputs": [],
   "source": [
    "def get_average(data, col_name, age1 = 16, age2 = 24):\n",
    "    try: \n",
    "        filtered_data = data[(data.agep >= age1) & (data.agep <= age2)]\n",
    "        filtered_data['weighted_sum'] = filtered_data[col_name]*filtered_data['pwgtp']\n",
    "        sum_of_weighted_data = filtered_data['weighted_sum'].sum()\n",
    "        sum_of_weights = filtered_data['pwgtp'].sum()\n",
    "        return sum_of_weighted_data/sum_of_weights\n",
    "    except:\n",
    "        print(\"operation could not be completed\")\n",
    "\n",
    "\n",
    "def weight_sum(df):\n",
    "    weighted_sum = df['pwgtp'].sum()\n",
    "    return weighted_sum\n",
    "                      \n",
    "\n",
    "def trisect_ages(df):\n",
    "    df_16_18 = df[(df.agep>=16) & (df.agep <= 18)]\n",
    "    value_16_18 = weight_sum(df_16_18)\n",
    "    \n",
    "    df_19_21 = df[(df.agep>=19) & (df.agep <= 21)]\n",
    "    value_19_21 = weight_sum(df_19_21)\n",
    "    \n",
    "    df_22_24 = df[(df.agep>=22) & (df.agep <= 24)]\n",
    "    value_22_24 = weight_sum(df_22_24)\n",
    "    \n",
    "    value_total = weight_sum(df)\n",
    "    \n",
    "    value_array = np.array([value_16_18, value_19_21, value_22_24, value_total])\n",
    "    return value_array\n",
    "\n",
    "def form_another_2d_array(df_list):\n",
    "    new_list = np.zeros(len(df_list)+1)\n",
    "    final_table = np.array([trisect_ages(x_df) for x_df in df_list])\n",
    "    \n",
    "#     for x in range(len(df_list)+1):\n",
    "#         for y in range(len(df_list[0])+1)\n",
    "#         element = df_table[0][x]-(df_table[1][x]+df_table[2][x]+df_table[3][x]+df_table[4][x])\n",
    "#         print(element)\n",
    "#         new_list[x] = element\n",
    "#     final_table = np.append(df_table, [new_list], axis = 0)\n",
    "    \n",
    "    return final_table\n",
    "    \n",
    "\n",
    "def create_df(array_entry, columns_entry, index_entry):\n",
    "    df = pd.DataFrame(array_entry, columns = columns_entry, index = index_entry)\n",
    "    return df\n",
    "\n",
    "def add_percentages(df):\n",
    "    for col in df.columns:\n",
    "        if 'total' in col:\n",
    "            df[\"{} percentage\".format(col[:5])] = round(df[col]/df.loc['Total Population', col]*100)\n",
    "            \n",
    "def get_plot_info(df_new, df_original, row):\n",
    "    labels= ['16-18 percentage', '19-21 percentage', '22-24 percentage', 'total percentage']\n",
    "    x = [] # values of the first bar graph\n",
    "    y = [] # values of the second bar graph\n",
    "    z = np.arange(len(labels)) # label location\n",
    "    width = .35 # width of the bars\n",
    "    for col in df_new.columns:\n",
    "        if ('percentage' in col):\n",
    "            x.append(df_new.loc[row,col])\n",
    "    for col in df_original.columns:\n",
    "        if ('percentage' in col):\n",
    "            y.append(df_original.loc[row,col])\n",
    "    return x, y, z, width\n",
    "\n",
    "\n",
    "    "
   ]
  },
  {
   "cell_type": "markdown",
   "metadata": {},
   "source": [
    "### creating the database"
   ]
  },
  {
   "cell_type": "code",
   "execution_count": 14,
   "metadata": {},
   "outputs": [
    {
     "data": {
      "text/plain": [
       "array([ 1815.,  3902.,  4897., 10614.])"
      ]
     },
     "execution_count": 14,
     "metadata": {},
     "output_type": "execute_result"
    }
   ],
   "source": [
    "tri_sected1 = trisect_ages(df_col_deg)\n",
    "tri_sected2 = trisect_ages(df_no_degree)\n",
    "tri_sected5 = trisect_ages(df_total_oy)\n",
    "tri_sected5\n"
   ]
  },
  {
   "cell_type": "code",
   "execution_count": 15,
   "metadata": {},
   "outputs": [
    {
     "data": {
      "text/plain": [
       "array([[ 1815.,  3902.,  4897., 10614.],\n",
       "       [  916.,  1112.,  1349.,  3377.],\n",
       "       [  781.,  2176.,  2135.,  5092.],\n",
       "       [  118.,   521.,  1000.,  1639.],\n",
       "       [    0.,    93.,   413.,   506.]])"
      ]
     },
     "execution_count": 15,
     "metadata": {},
     "output_type": "execute_result"
    }
   ],
   "source": [
    "second_array = form_another_2d_array([df_total_oy, df_no_degree, df_hs_ged, df_some_college, df_col_deg])\n",
    "second_array"
   ]
  },
  {
   "cell_type": "code",
   "execution_count": 16,
   "metadata": {},
   "outputs": [],
   "source": [
    "column_names = ['16-18 total', '19-21 total', '22-24 total', '16-24 total']"
   ]
  },
  {
   "cell_type": "code",
   "execution_count": 17,
   "metadata": {},
   "outputs": [],
   "source": [
    "index_names = ['Total Population', 'No HS Degree or GED', 'High School Degree/GED','Some College', 'AA or higher']"
   ]
  },
  {
   "cell_type": "code",
   "execution_count": 18,
   "metadata": {},
   "outputs": [],
   "source": [
    "second_df = create_df(second_array, column_names, index_names)"
   ]
  },
  {
   "cell_type": "code",
   "execution_count": 19,
   "metadata": {},
   "outputs": [
    {
     "data": {
      "text/html": [
       "<div>\n",
       "<style scoped>\n",
       "    .dataframe tbody tr th:only-of-type {\n",
       "        vertical-align: middle;\n",
       "    }\n",
       "\n",
       "    .dataframe tbody tr th {\n",
       "        vertical-align: top;\n",
       "    }\n",
       "\n",
       "    .dataframe thead th {\n",
       "        text-align: right;\n",
       "    }\n",
       "</style>\n",
       "<table border=\"1\" class=\"dataframe\">\n",
       "  <thead>\n",
       "    <tr style=\"text-align: right;\">\n",
       "      <th></th>\n",
       "      <th>16-18 total</th>\n",
       "      <th>19-21 total</th>\n",
       "      <th>22-24 total</th>\n",
       "      <th>16-24 total</th>\n",
       "    </tr>\n",
       "  </thead>\n",
       "  <tbody>\n",
       "    <tr>\n",
       "      <th>Total Population</th>\n",
       "      <td>1815.0</td>\n",
       "      <td>3902.0</td>\n",
       "      <td>4897.0</td>\n",
       "      <td>10614.0</td>\n",
       "    </tr>\n",
       "    <tr>\n",
       "      <th>No HS Degree or GED</th>\n",
       "      <td>916.0</td>\n",
       "      <td>1112.0</td>\n",
       "      <td>1349.0</td>\n",
       "      <td>3377.0</td>\n",
       "    </tr>\n",
       "    <tr>\n",
       "      <th>High School Degree/GED</th>\n",
       "      <td>781.0</td>\n",
       "      <td>2176.0</td>\n",
       "      <td>2135.0</td>\n",
       "      <td>5092.0</td>\n",
       "    </tr>\n",
       "    <tr>\n",
       "      <th>Some College</th>\n",
       "      <td>118.0</td>\n",
       "      <td>521.0</td>\n",
       "      <td>1000.0</td>\n",
       "      <td>1639.0</td>\n",
       "    </tr>\n",
       "    <tr>\n",
       "      <th>AA or higher</th>\n",
       "      <td>0.0</td>\n",
       "      <td>93.0</td>\n",
       "      <td>413.0</td>\n",
       "      <td>506.0</td>\n",
       "    </tr>\n",
       "  </tbody>\n",
       "</table>\n",
       "</div>"
      ],
      "text/plain": [
       "                        16-18 total  19-21 total  22-24 total  16-24 total\n",
       "Total Population             1815.0       3902.0       4897.0      10614.0\n",
       "No HS Degree or GED           916.0       1112.0       1349.0       3377.0\n",
       "High School Degree/GED        781.0       2176.0       2135.0       5092.0\n",
       "Some College                  118.0        521.0       1000.0       1639.0\n",
       "AA or higher                    0.0         93.0        413.0        506.0"
      ]
     },
     "execution_count": 19,
     "metadata": {},
     "output_type": "execute_result"
    }
   ],
   "source": [
    "second_df"
   ]
  },
  {
   "cell_type": "code",
   "execution_count": 20,
   "metadata": {},
   "outputs": [],
   "source": [
    "reorganized_list = ['16-18 percentage','16-18 total', '19-21 percentage', '19-21 total', '22-24 percentage', '22-24 total', '16-24 percentage', '16-24 total', ]"
   ]
  },
  {
   "cell_type": "code",
   "execution_count": 21,
   "metadata": {},
   "outputs": [
    {
     "data": {
      "text/html": [
       "<div>\n",
       "<style scoped>\n",
       "    .dataframe tbody tr th:only-of-type {\n",
       "        vertical-align: middle;\n",
       "    }\n",
       "\n",
       "    .dataframe tbody tr th {\n",
       "        vertical-align: top;\n",
       "    }\n",
       "\n",
       "    .dataframe thead th {\n",
       "        text-align: right;\n",
       "    }\n",
       "</style>\n",
       "<table border=\"1\" class=\"dataframe\">\n",
       "  <thead>\n",
       "    <tr style=\"text-align: right;\">\n",
       "      <th></th>\n",
       "      <th>16-18 percentage</th>\n",
       "      <th>16-18 total</th>\n",
       "      <th>19-21 percentage</th>\n",
       "      <th>19-21 total</th>\n",
       "      <th>22-24 percentage</th>\n",
       "      <th>22-24 total</th>\n",
       "      <th>16-24 percentage</th>\n",
       "      <th>16-24 total</th>\n",
       "    </tr>\n",
       "  </thead>\n",
       "  <tbody>\n",
       "    <tr>\n",
       "      <th>Total Population</th>\n",
       "      <td>NaN</td>\n",
       "      <td>1815.0</td>\n",
       "      <td>NaN</td>\n",
       "      <td>3902.0</td>\n",
       "      <td>NaN</td>\n",
       "      <td>4897.0</td>\n",
       "      <td>NaN</td>\n",
       "      <td>10614.0</td>\n",
       "    </tr>\n",
       "    <tr>\n",
       "      <th>No HS Degree or GED</th>\n",
       "      <td>NaN</td>\n",
       "      <td>916.0</td>\n",
       "      <td>NaN</td>\n",
       "      <td>1112.0</td>\n",
       "      <td>NaN</td>\n",
       "      <td>1349.0</td>\n",
       "      <td>NaN</td>\n",
       "      <td>3377.0</td>\n",
       "    </tr>\n",
       "    <tr>\n",
       "      <th>High School Degree/GED</th>\n",
       "      <td>NaN</td>\n",
       "      <td>781.0</td>\n",
       "      <td>NaN</td>\n",
       "      <td>2176.0</td>\n",
       "      <td>NaN</td>\n",
       "      <td>2135.0</td>\n",
       "      <td>NaN</td>\n",
       "      <td>5092.0</td>\n",
       "    </tr>\n",
       "    <tr>\n",
       "      <th>Some College</th>\n",
       "      <td>NaN</td>\n",
       "      <td>118.0</td>\n",
       "      <td>NaN</td>\n",
       "      <td>521.0</td>\n",
       "      <td>NaN</td>\n",
       "      <td>1000.0</td>\n",
       "      <td>NaN</td>\n",
       "      <td>1639.0</td>\n",
       "    </tr>\n",
       "    <tr>\n",
       "      <th>AA or higher</th>\n",
       "      <td>NaN</td>\n",
       "      <td>0.0</td>\n",
       "      <td>NaN</td>\n",
       "      <td>93.0</td>\n",
       "      <td>NaN</td>\n",
       "      <td>413.0</td>\n",
       "      <td>NaN</td>\n",
       "      <td>506.0</td>\n",
       "    </tr>\n",
       "  </tbody>\n",
       "</table>\n",
       "</div>"
      ],
      "text/plain": [
       "                        16-18 percentage  16-18 total  19-21 percentage  \\\n",
       "Total Population                     NaN       1815.0               NaN   \n",
       "No HS Degree or GED                  NaN        916.0               NaN   \n",
       "High School Degree/GED               NaN        781.0               NaN   \n",
       "Some College                         NaN        118.0               NaN   \n",
       "AA or higher                         NaN          0.0               NaN   \n",
       "\n",
       "                        19-21 total  22-24 percentage  22-24 total  \\\n",
       "Total Population             3902.0               NaN       4897.0   \n",
       "No HS Degree or GED          1112.0               NaN       1349.0   \n",
       "High School Degree/GED       2176.0               NaN       2135.0   \n",
       "Some College                  521.0               NaN       1000.0   \n",
       "AA or higher                   93.0               NaN        413.0   \n",
       "\n",
       "                        16-24 percentage  16-24 total  \n",
       "Total Population                     NaN      10614.0  \n",
       "No HS Degree or GED                  NaN       3377.0  \n",
       "High School Degree/GED               NaN       5092.0  \n",
       "Some College                         NaN       1639.0  \n",
       "AA or higher                         NaN        506.0  "
      ]
     },
     "execution_count": 21,
     "metadata": {},
     "output_type": "execute_result"
    }
   ],
   "source": [
    "second_df = second_df.reindex(columns = reorganized_list)\n",
    "second_df\n",
    "\n"
   ]
  },
  {
   "cell_type": "code",
   "execution_count": 22,
   "metadata": {},
   "outputs": [],
   "source": [
    "add_percentages(second_df)"
   ]
  },
  {
   "cell_type": "code",
   "execution_count": 23,
   "metadata": {},
   "outputs": [
    {
     "data": {
      "text/html": [
       "<div>\n",
       "<style scoped>\n",
       "    .dataframe tbody tr th:only-of-type {\n",
       "        vertical-align: middle;\n",
       "    }\n",
       "\n",
       "    .dataframe tbody tr th {\n",
       "        vertical-align: top;\n",
       "    }\n",
       "\n",
       "    .dataframe thead th {\n",
       "        text-align: right;\n",
       "    }\n",
       "</style>\n",
       "<table border=\"1\" class=\"dataframe\">\n",
       "  <thead>\n",
       "    <tr style=\"text-align: right;\">\n",
       "      <th></th>\n",
       "      <th>16-18 percentage</th>\n",
       "      <th>16-18 total</th>\n",
       "      <th>19-21 percentage</th>\n",
       "      <th>19-21 total</th>\n",
       "      <th>22-24 percentage</th>\n",
       "      <th>22-24 total</th>\n",
       "      <th>16-24 percentage</th>\n",
       "      <th>16-24 total</th>\n",
       "    </tr>\n",
       "  </thead>\n",
       "  <tbody>\n",
       "    <tr>\n",
       "      <th>Total Population</th>\n",
       "      <td>100.0</td>\n",
       "      <td>1815.0</td>\n",
       "      <td>100.0</td>\n",
       "      <td>3902.0</td>\n",
       "      <td>100.0</td>\n",
       "      <td>4897.0</td>\n",
       "      <td>100.0</td>\n",
       "      <td>10614.0</td>\n",
       "    </tr>\n",
       "    <tr>\n",
       "      <th>No HS Degree or GED</th>\n",
       "      <td>50.0</td>\n",
       "      <td>916.0</td>\n",
       "      <td>28.0</td>\n",
       "      <td>1112.0</td>\n",
       "      <td>28.0</td>\n",
       "      <td>1349.0</td>\n",
       "      <td>32.0</td>\n",
       "      <td>3377.0</td>\n",
       "    </tr>\n",
       "    <tr>\n",
       "      <th>High School Degree/GED</th>\n",
       "      <td>43.0</td>\n",
       "      <td>781.0</td>\n",
       "      <td>56.0</td>\n",
       "      <td>2176.0</td>\n",
       "      <td>44.0</td>\n",
       "      <td>2135.0</td>\n",
       "      <td>48.0</td>\n",
       "      <td>5092.0</td>\n",
       "    </tr>\n",
       "    <tr>\n",
       "      <th>Some College</th>\n",
       "      <td>7.0</td>\n",
       "      <td>118.0</td>\n",
       "      <td>13.0</td>\n",
       "      <td>521.0</td>\n",
       "      <td>20.0</td>\n",
       "      <td>1000.0</td>\n",
       "      <td>15.0</td>\n",
       "      <td>1639.0</td>\n",
       "    </tr>\n",
       "    <tr>\n",
       "      <th>AA or higher</th>\n",
       "      <td>0.0</td>\n",
       "      <td>0.0</td>\n",
       "      <td>2.0</td>\n",
       "      <td>93.0</td>\n",
       "      <td>8.0</td>\n",
       "      <td>413.0</td>\n",
       "      <td>5.0</td>\n",
       "      <td>506.0</td>\n",
       "    </tr>\n",
       "  </tbody>\n",
       "</table>\n",
       "</div>"
      ],
      "text/plain": [
       "                        16-18 percentage  16-18 total  19-21 percentage  \\\n",
       "Total Population                   100.0       1815.0             100.0   \n",
       "No HS Degree or GED                 50.0        916.0              28.0   \n",
       "High School Degree/GED              43.0        781.0              56.0   \n",
       "Some College                         7.0        118.0              13.0   \n",
       "AA or higher                         0.0          0.0               2.0   \n",
       "\n",
       "                        19-21 total  22-24 percentage  22-24 total  \\\n",
       "Total Population             3902.0             100.0       4897.0   \n",
       "No HS Degree or GED          1112.0              28.0       1349.0   \n",
       "High School Degree/GED       2176.0              44.0       2135.0   \n",
       "Some College                  521.0              20.0       1000.0   \n",
       "AA or higher                   93.0               8.0        413.0   \n",
       "\n",
       "                        16-24 percentage  16-24 total  \n",
       "Total Population                   100.0      10614.0  \n",
       "No HS Degree or GED                 32.0       3377.0  \n",
       "High School Degree/GED              48.0       5092.0  \n",
       "Some College                        15.0       1639.0  \n",
       "AA or higher                         5.0        506.0  "
      ]
     },
     "execution_count": 23,
     "metadata": {},
     "output_type": "execute_result"
    }
   ],
   "source": [
    "second_df"
   ]
  },
  {
   "cell_type": "code",
   "execution_count": 29,
   "metadata": {},
   "outputs": [],
   "source": [
    "original2_data = np.array([[2805,7284,8728,18817],[1610, 2048, 1981, 5639], [985, 3349, 3067, 7401],[179, 1666, 1763, 3608], [31, 221, 1917, 2169]])"
   ]
  },
  {
   "cell_type": "code",
   "execution_count": 30,
   "metadata": {},
   "outputs": [
    {
     "data": {
      "text/plain": [
       "array([[ 2805,  7284,  8728, 18817],\n",
       "       [ 1610,  2048,  1981,  5639],\n",
       "       [  985,  3349,  3067,  7401],\n",
       "       [  179,  1666,  1763,  3608],\n",
       "       [   31,   221,  1917,  2169]])"
      ]
     },
     "execution_count": 30,
     "metadata": {},
     "output_type": "execute_result"
    }
   ],
   "source": [
    "original2_data"
   ]
  },
  {
   "cell_type": "code",
   "execution_count": 34,
   "metadata": {},
   "outputs": [],
   "source": [
    "original2_df = create_df(original2_data, column_names, index_names)"
   ]
  },
  {
   "cell_type": "code",
   "execution_count": 35,
   "metadata": {},
   "outputs": [
    {
     "data": {
      "text/html": [
       "<div>\n",
       "<style scoped>\n",
       "    .dataframe tbody tr th:only-of-type {\n",
       "        vertical-align: middle;\n",
       "    }\n",
       "\n",
       "    .dataframe tbody tr th {\n",
       "        vertical-align: top;\n",
       "    }\n",
       "\n",
       "    .dataframe thead th {\n",
       "        text-align: right;\n",
       "    }\n",
       "</style>\n",
       "<table border=\"1\" class=\"dataframe\">\n",
       "  <thead>\n",
       "    <tr style=\"text-align: right;\">\n",
       "      <th></th>\n",
       "      <th>16-18 total</th>\n",
       "      <th>19-21 total</th>\n",
       "      <th>22-24 total</th>\n",
       "      <th>16-24 total</th>\n",
       "    </tr>\n",
       "  </thead>\n",
       "  <tbody>\n",
       "    <tr>\n",
       "      <th>Total Population</th>\n",
       "      <td>2805</td>\n",
       "      <td>7284</td>\n",
       "      <td>8728</td>\n",
       "      <td>18817</td>\n",
       "    </tr>\n",
       "    <tr>\n",
       "      <th>No HS Degree or GED</th>\n",
       "      <td>1610</td>\n",
       "      <td>2048</td>\n",
       "      <td>1981</td>\n",
       "      <td>5639</td>\n",
       "    </tr>\n",
       "    <tr>\n",
       "      <th>High School Degree/GED</th>\n",
       "      <td>985</td>\n",
       "      <td>3349</td>\n",
       "      <td>3067</td>\n",
       "      <td>7401</td>\n",
       "    </tr>\n",
       "    <tr>\n",
       "      <th>Some College</th>\n",
       "      <td>179</td>\n",
       "      <td>1666</td>\n",
       "      <td>1763</td>\n",
       "      <td>3608</td>\n",
       "    </tr>\n",
       "    <tr>\n",
       "      <th>AA or higher</th>\n",
       "      <td>31</td>\n",
       "      <td>221</td>\n",
       "      <td>1917</td>\n",
       "      <td>2169</td>\n",
       "    </tr>\n",
       "  </tbody>\n",
       "</table>\n",
       "</div>"
      ],
      "text/plain": [
       "                        16-18 total  19-21 total  22-24 total  16-24 total\n",
       "Total Population               2805         7284         8728        18817\n",
       "No HS Degree or GED            1610         2048         1981         5639\n",
       "High School Degree/GED          985         3349         3067         7401\n",
       "Some College                    179         1666         1763         3608\n",
       "AA or higher                     31          221         1917         2169"
      ]
     },
     "execution_count": 35,
     "metadata": {},
     "output_type": "execute_result"
    }
   ],
   "source": [
    "original2_df"
   ]
  },
  {
   "cell_type": "code",
   "execution_count": 36,
   "metadata": {},
   "outputs": [],
   "source": [
    "original2_df = original2_df.reindex(columns = reorganized_list)"
   ]
  },
  {
   "cell_type": "code",
   "execution_count": 37,
   "metadata": {},
   "outputs": [
    {
     "data": {
      "text/html": [
       "<div>\n",
       "<style scoped>\n",
       "    .dataframe tbody tr th:only-of-type {\n",
       "        vertical-align: middle;\n",
       "    }\n",
       "\n",
       "    .dataframe tbody tr th {\n",
       "        vertical-align: top;\n",
       "    }\n",
       "\n",
       "    .dataframe thead th {\n",
       "        text-align: right;\n",
       "    }\n",
       "</style>\n",
       "<table border=\"1\" class=\"dataframe\">\n",
       "  <thead>\n",
       "    <tr style=\"text-align: right;\">\n",
       "      <th></th>\n",
       "      <th>16-18 percentage</th>\n",
       "      <th>16-18 total</th>\n",
       "      <th>19-21 percentage</th>\n",
       "      <th>19-21 total</th>\n",
       "      <th>22-24 percentage</th>\n",
       "      <th>22-24 total</th>\n",
       "      <th>16-24 percentage</th>\n",
       "      <th>16-24 total</th>\n",
       "    </tr>\n",
       "  </thead>\n",
       "  <tbody>\n",
       "    <tr>\n",
       "      <th>Total Population</th>\n",
       "      <td>NaN</td>\n",
       "      <td>2805</td>\n",
       "      <td>NaN</td>\n",
       "      <td>7284</td>\n",
       "      <td>NaN</td>\n",
       "      <td>8728</td>\n",
       "      <td>NaN</td>\n",
       "      <td>18817</td>\n",
       "    </tr>\n",
       "    <tr>\n",
       "      <th>No HS Degree or GED</th>\n",
       "      <td>NaN</td>\n",
       "      <td>1610</td>\n",
       "      <td>NaN</td>\n",
       "      <td>2048</td>\n",
       "      <td>NaN</td>\n",
       "      <td>1981</td>\n",
       "      <td>NaN</td>\n",
       "      <td>5639</td>\n",
       "    </tr>\n",
       "    <tr>\n",
       "      <th>High School Degree/GED</th>\n",
       "      <td>NaN</td>\n",
       "      <td>985</td>\n",
       "      <td>NaN</td>\n",
       "      <td>3349</td>\n",
       "      <td>NaN</td>\n",
       "      <td>3067</td>\n",
       "      <td>NaN</td>\n",
       "      <td>7401</td>\n",
       "    </tr>\n",
       "    <tr>\n",
       "      <th>Some College</th>\n",
       "      <td>NaN</td>\n",
       "      <td>179</td>\n",
       "      <td>NaN</td>\n",
       "      <td>1666</td>\n",
       "      <td>NaN</td>\n",
       "      <td>1763</td>\n",
       "      <td>NaN</td>\n",
       "      <td>3608</td>\n",
       "    </tr>\n",
       "    <tr>\n",
       "      <th>AA or higher</th>\n",
       "      <td>NaN</td>\n",
       "      <td>31</td>\n",
       "      <td>NaN</td>\n",
       "      <td>221</td>\n",
       "      <td>NaN</td>\n",
       "      <td>1917</td>\n",
       "      <td>NaN</td>\n",
       "      <td>2169</td>\n",
       "    </tr>\n",
       "  </tbody>\n",
       "</table>\n",
       "</div>"
      ],
      "text/plain": [
       "                        16-18 percentage  16-18 total  19-21 percentage  \\\n",
       "Total Population                     NaN         2805               NaN   \n",
       "No HS Degree or GED                  NaN         1610               NaN   \n",
       "High School Degree/GED               NaN          985               NaN   \n",
       "Some College                         NaN          179               NaN   \n",
       "AA or higher                         NaN           31               NaN   \n",
       "\n",
       "                        19-21 total  22-24 percentage  22-24 total  \\\n",
       "Total Population               7284               NaN         8728   \n",
       "No HS Degree or GED            2048               NaN         1981   \n",
       "High School Degree/GED         3349               NaN         3067   \n",
       "Some College                   1666               NaN         1763   \n",
       "AA or higher                    221               NaN         1917   \n",
       "\n",
       "                        16-24 percentage  16-24 total  \n",
       "Total Population                     NaN        18817  \n",
       "No HS Degree or GED                  NaN         5639  \n",
       "High School Degree/GED               NaN         7401  \n",
       "Some College                         NaN         3608  \n",
       "AA or higher                         NaN         2169  "
      ]
     },
     "execution_count": 37,
     "metadata": {},
     "output_type": "execute_result"
    }
   ],
   "source": [
    "original2_df"
   ]
  },
  {
   "cell_type": "code",
   "execution_count": 38,
   "metadata": {},
   "outputs": [],
   "source": [
    "add_percentages(original2_df)"
   ]
  },
  {
   "cell_type": "code",
   "execution_count": 39,
   "metadata": {},
   "outputs": [
    {
     "data": {
      "text/html": [
       "<div>\n",
       "<style scoped>\n",
       "    .dataframe tbody tr th:only-of-type {\n",
       "        vertical-align: middle;\n",
       "    }\n",
       "\n",
       "    .dataframe tbody tr th {\n",
       "        vertical-align: top;\n",
       "    }\n",
       "\n",
       "    .dataframe thead th {\n",
       "        text-align: right;\n",
       "    }\n",
       "</style>\n",
       "<table border=\"1\" class=\"dataframe\">\n",
       "  <thead>\n",
       "    <tr style=\"text-align: right;\">\n",
       "      <th></th>\n",
       "      <th>16-18 percentage</th>\n",
       "      <th>16-18 total</th>\n",
       "      <th>19-21 percentage</th>\n",
       "      <th>19-21 total</th>\n",
       "      <th>22-24 percentage</th>\n",
       "      <th>22-24 total</th>\n",
       "      <th>16-24 percentage</th>\n",
       "      <th>16-24 total</th>\n",
       "    </tr>\n",
       "  </thead>\n",
       "  <tbody>\n",
       "    <tr>\n",
       "      <th>Total Population</th>\n",
       "      <td>100.0</td>\n",
       "      <td>2805</td>\n",
       "      <td>100.0</td>\n",
       "      <td>7284</td>\n",
       "      <td>100.0</td>\n",
       "      <td>8728</td>\n",
       "      <td>100.0</td>\n",
       "      <td>18817</td>\n",
       "    </tr>\n",
       "    <tr>\n",
       "      <th>No HS Degree or GED</th>\n",
       "      <td>57.0</td>\n",
       "      <td>1610</td>\n",
       "      <td>28.0</td>\n",
       "      <td>2048</td>\n",
       "      <td>23.0</td>\n",
       "      <td>1981</td>\n",
       "      <td>30.0</td>\n",
       "      <td>5639</td>\n",
       "    </tr>\n",
       "    <tr>\n",
       "      <th>High School Degree/GED</th>\n",
       "      <td>35.0</td>\n",
       "      <td>985</td>\n",
       "      <td>46.0</td>\n",
       "      <td>3349</td>\n",
       "      <td>35.0</td>\n",
       "      <td>3067</td>\n",
       "      <td>39.0</td>\n",
       "      <td>7401</td>\n",
       "    </tr>\n",
       "    <tr>\n",
       "      <th>Some College</th>\n",
       "      <td>6.0</td>\n",
       "      <td>179</td>\n",
       "      <td>23.0</td>\n",
       "      <td>1666</td>\n",
       "      <td>20.0</td>\n",
       "      <td>1763</td>\n",
       "      <td>19.0</td>\n",
       "      <td>3608</td>\n",
       "    </tr>\n",
       "    <tr>\n",
       "      <th>AA or higher</th>\n",
       "      <td>1.0</td>\n",
       "      <td>31</td>\n",
       "      <td>3.0</td>\n",
       "      <td>221</td>\n",
       "      <td>22.0</td>\n",
       "      <td>1917</td>\n",
       "      <td>12.0</td>\n",
       "      <td>2169</td>\n",
       "    </tr>\n",
       "  </tbody>\n",
       "</table>\n",
       "</div>"
      ],
      "text/plain": [
       "                        16-18 percentage  16-18 total  19-21 percentage  \\\n",
       "Total Population                   100.0         2805             100.0   \n",
       "No HS Degree or GED                 57.0         1610              28.0   \n",
       "High School Degree/GED              35.0          985              46.0   \n",
       "Some College                         6.0          179              23.0   \n",
       "AA or higher                         1.0           31               3.0   \n",
       "\n",
       "                        19-21 total  22-24 percentage  22-24 total  \\\n",
       "Total Population               7284             100.0         8728   \n",
       "No HS Degree or GED            2048              23.0         1981   \n",
       "High School Degree/GED         3349              35.0         3067   \n",
       "Some College                   1666              20.0         1763   \n",
       "AA or higher                    221              22.0         1917   \n",
       "\n",
       "                        16-24 percentage  16-24 total  \n",
       "Total Population                   100.0        18817  \n",
       "No HS Degree or GED                 30.0         5639  \n",
       "High School Degree/GED              39.0         7401  \n",
       "Some College                        19.0         3608  \n",
       "AA or higher                        12.0         2169  "
      ]
     },
     "execution_count": 39,
     "metadata": {},
     "output_type": "execute_result"
    }
   ],
   "source": [
    "original2_df"
   ]
  },
  {
   "cell_type": "code",
   "execution_count": 62,
   "metadata": {},
   "outputs": [
    {
     "data": {
      "text/plain": [
       "<matplotlib.legend.Legend at 0x11118f668>"
      ]
     },
     "execution_count": 62,
     "metadata": {},
     "output_type": "execute_result"
    },
    {
     "data": {
      "image/png": "[encoded data removed]",
      "text/plain": [
       "<Figure size 1008x720 with 4 Axes>"
      ]
     },
     "metadata": {
      "needs_background": "light"
     },
     "output_type": "display_data"
    }
   ],
   "source": [
    "x, y, z, w = get_plot_info(second_df, original2_df, 'No HS Degree or GED')\n",
    "x1, y1, z1, w1 = get_plot_info(second_df, original2_df, 'High School Degree/GED')\n",
    "x2, y2, z2, w2 = get_plot_info(second_df, original2_df, 'Some College')\n",
    "x3, y3, z3, w3 = get_plot_info(second_df, original2_df, 'AA or higher')\n",
    "\n",
    "labels = ['16-18 years', '19-21 years', '22-24 years', 'total years']\n",
    "\n",
    "fig, ax = plt.subplots(2,2, figsize = (14,10))\n",
    "\n",
    "rect1a = ax[0][0].bar(z - w/2, x,  w, label='New Data')\n",
    "rect1b = ax[0][0].bar(z + w/2, y,  w, label='Original Data')\n",
    "\n",
    "rect2a = ax[0][1].bar(z1 - w1/2, x1,  w1, label='New Data')\n",
    "rect2b = ax[0][1].bar(z1 + w1/2, y1,  w1, label='Original Data')\n",
    "\n",
    "rect3a = ax[1][0].bar(z2 - w2/2, x2,  w2, label='New Data')\n",
    "rect3b = ax[1][0].bar(z2 + w2/2, y2,  w2, label='Original Data')\n",
    "\n",
    "rect4a = ax[1][1].bar(z3 - w3/2, x3,  w3, label='New Data')\n",
    "rect4b = ax[1][1].bar(z3 + w3/2, y3,  w3, label='Original Data')\n",
    "\n",
    "ax[0][0].title.set_text('No HS Degree or GED')\n",
    "ax[0][1].title.set_text('Highschool Diploma/GED')\n",
    "ax[1][0].title.set_text('Some College')\n",
    "ax[1][1].title.set_text('AA or Higher')\n",
    "\n",
    "for x in range(2):\n",
    "    for y in range (2):\n",
    "        ax[x][y].set_xticks(z)\n",
    "        ax[x][y].set_xticklabels(labels)\n",
    "        ax[x][y].set_ylabel('percentage of given age group')\n",
    "\n",
    "ax[0][1].legend(prop= {'size':14})\n",
    "\n"
   ]
  }
 ],
 "metadata": {
  "kernelspec": {
   "display_name": "oy-env",
   "language": "python",
   "name": "oy-env"
  },
  "language_info": {
   "codemirror_mode": {
    "name": "ipython",
    "version": 3
   },
   "file_extension": ".py",
   "mimetype": "text/x-python",
   "name": "python",
   "nbconvert_exporter": "python",
   "pygments_lexer": "ipython3",
   "version": "3.7.3"
  }
 },
 "nbformat": 4,
 "nbformat_minor": 2
}
